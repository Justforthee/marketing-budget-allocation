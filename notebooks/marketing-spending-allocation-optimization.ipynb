{
  "cells": [
    {
      "attachments": {},
      "cell_type": "markdown",
      "id": "e21d2c03",
      "metadata": {
        "id": "e21d2c03"
      },
      "source": [
        "## **Digital Marketing Spending Optimization using Machine Learning in Python**"
      ]
    },
    {
      "attachments": {},
      "cell_type": "markdown",
      "id": "8ed28017",
      "metadata": {
        "id": "8ed28017"
      },
      "source": [
        "## **Introduction**\n",
        "\n",
        "This project uses machine learning and data science to help a company improve how it spends money on marketing. The company sells Data Science and Data Engineering related courses and wants to know the best way to use its marketing budget.\n",
        "\n",
        "We'll use the company's historic lead generationdata about past marketing efforts to train machine learning models. These models will predict which marketing channels are likely to bring in the most customers and revenue.\n",
        "\n",
        "We'll explore different machine learning algorithms and compare their performance. We'll also experiment with various ways to prepare the data and choose the most important features.\n",
        "\n",
        "The goal is to create a tool that can recommend how to divide the marketing budget among different channels like social media, SEO, email, and search ads. This should help the company get more customers and increase sales from its marketing spending.\n"
      ]
    },
    {
      "attachments": {},
      "cell_type": "markdown",
      "id": "5b84de32",
      "metadata": {
        "id": "5b84de32"
      },
      "source": [
        "## **Assumptions**\n",
        "\n",
        "* We assume that <b>Interest Level</b> is our target variable which refers to the interest of a user for a lead id\n",
        "* We assume that whenever the target variable is NA or Not called, the corresponding lead id is not meaningful and hence dropped\n",
        "* If the model's prediction is very close to 1, it means that the user is very likely to engage with the lead id\n",
        "* Columns with a lot of null values are not meaningful and imputation also won't be helpful"
      ]
    },
    {
      "attachments": {},
      "cell_type": "markdown",
      "id": "8d5147ac",
      "metadata": {
        "id": "8d5147ac"
      },
      "source": [
        "## **Approach**\n",
        "\n",
        "\n",
        "We are treating this problem as an supervised learning problem. So every data point will have a target variable for the model to learn the dependencies and predict on the unknown.\n",
        "\n",
        "\n",
        "In real life, this model would tell the business whether a user is likely to engage with the ad or not and that would in turn help the company to allocate budgets accordingly.\n",
        "\n",
        "\n",
        "Given our assumptions about the data, we will build a prediction model based on the historical data. Simplifying, here's the logic of what we'll build:\n",
        "\n",
        "\n",
        "1. We'll build a model to identify if a customer will be interested in the lead;\n",
        "2. We'll use various tree based model and compare their performance on interest prediction;\n",
        "3. We will then choose the most successful model to use in production;\n",
        "\n",
        "* Exploratory Data Analysis (EDA):\n",
        "  * Understand the features and their relationships with target variables\n",
        "  * Check for missing or invalid values and their imputation\n",
        "\n",
        "\n",
        "* Data Preprocessing:\n",
        "  * Encode the variables using label encoding\n",
        "  * Split the dataset into training and testing sets\n",
        "\n",
        "* Model Building and Testing:\n",
        "  * Random Forest\n",
        "  * Light Gradient Boosting\n",
        "  * Extreme Gradient Boosting\n"
      ]
    },
    {
      "attachments": {},
      "cell_type": "markdown",
      "id": "c4fc1bfa",
      "metadata": {
        "id": "c4fc1bfa"
      },
      "source": [
        "## **Install required packages**\n"
      ]
    },
    {
      "cell_type": "code",
      "execution_count": null,
      "id": "43f812a6",
      "metadata": {
        "id": "43f812a6",
        "outputId": "57f10385-f711-4c92-dfe1-01c0930d7925"
      },
      "outputs": [],
      "source": [
        "# python version 3.8.10 or up\n",
        "\n",
        "%pip install numpy==1.20.0\n",
        "%pip install pandas==1.2.4\n",
        "%pip install matplotlib==3.7.1\n",
        "%pip install scikit-learn==0.23.2\n",
        "%pip install xgboost==1.6.2\n",
        "%pip install lightgbm==3.3.2"
      ]
    },
    {
      "cell_type": "code",
      "execution_count": 17,
      "id": "b124c0ed",
      "metadata": {
        "id": "b124c0ed"
      },
      "outputs": [],
      "source": [
        "import matplotlib.pyplot as plt\n",
        "import pandas as pd\n",
        "import numpy as np\n",
        "from sklearn import preprocessing\n",
        "from IPython.display import display, HTML\n",
        "# Suppress and ignore all warnings\n",
        "import warnings\n",
        "warnings.filterwarnings(\"ignore\")\n",
        "\n",
        "# Enable multiple outputs in a cell\n",
        "from IPython.core.interactiveshell import InteractiveShell\n",
        "InteractiveShell.ast_node_interactivity = \"all\"\n",
        "\n",
        "# Increasing this limit allows for more columns to be visible without truncation, making it easier to view and analyze larger datasets.\n",
        "pd.set_option('display.max_columns', 200)\n"
      ]
    },
    {
      "attachments": {},
      "cell_type": "markdown",
      "id": "7ba55589",
      "metadata": {
        "id": "7ba55589"
      },
      "source": [
        "## **Load the Data**"
      ]
    },
    {
      "cell_type": "code",
      "execution_count": 172,
      "id": "588443c9",
      "metadata": {
        "id": "588443c9"
      },
      "outputs": [],
      "source": [
        "file_path = \"../data/raw/marketing-leads.csv\"\n",
        "df = pd.read_csv(file_path)"
      ]
    },
    {
      "attachments": {},
      "cell_type": "markdown",
      "id": "44be0c30",
      "metadata": {
        "id": "44be0c30"
      },
      "source": [
        "Checking the first 10 records from the dataframe."
      ]
    },
    {
      "cell_type": "code",
      "execution_count": 173,
      "id": "65e0aadd",
      "metadata": {
        "colab": {
          "base_uri": "https://localhost:8080/",
          "height": 878
        },
        "id": "65e0aadd",
        "outputId": "c8b3c95c-b659-48f7-aa19-5f89bf969f35",
        "scrolled": true
      },
      "outputs": [
        {
          "data": {
            "text/html": [
              "<div>\n",
              "<style scoped>\n",
              "    .dataframe tbody tr th:only-of-type {\n",
              "        vertical-align: middle;\n",
              "    }\n",
              "\n",
              "    .dataframe tbody tr th {\n",
              "        vertical-align: top;\n",
              "    }\n",
              "\n",
              "    .dataframe thead th {\n",
              "        text-align: right;\n",
              "    }\n",
              "</style>\n",
              "<table border=\"1\" class=\"dataframe\">\n",
              "  <thead>\n",
              "    <tr style=\"text-align: right;\">\n",
              "      <th></th>\n",
              "      <th>lead_id</th>\n",
              "      <th>lead_owner</th>\n",
              "      <th>interest_level</th>\n",
              "      <th>lead_created</th>\n",
              "      <th>auto_lead_location</th>\n",
              "      <th>lead_creation_source</th>\n",
              "      <th>next_activity_date</th>\n",
              "      <th>current_work</th>\n",
              "      <th>product_interest</th>\n",
              "      <th>website_source</th>\n",
              "      <th>lead_updated</th>\n",
              "      <th>marketing_source</th>\n",
              "      <th>manual_lead_location</th>\n",
              "      <th>demo_date</th>\n",
              "      <th>demo_status</th>\n",
              "      <th>closure_date</th>\n",
              "    </tr>\n",
              "  </thead>\n",
              "  <tbody>\n",
              "    <tr>\n",
              "      <th>0</th>\n",
              "      <td>5e502dcf828b8975a78e89f3e9aeac12</td>\n",
              "      <td>e14c3a</td>\n",
              "      <td>Not Interested</td>\n",
              "      <td>12-01-2023 16:42</td>\n",
              "      <td>IN</td>\n",
              "      <td>API</td>\n",
              "      <td>NaN</td>\n",
              "      <td>Student</td>\n",
              "      <td>NaN</td>\n",
              "      <td>NaN</td>\n",
              "      <td>12-01-2023 19:27</td>\n",
              "      <td>NaN</td>\n",
              "      <td>India</td>\n",
              "      <td>NaN</td>\n",
              "      <td>NaN</td>\n",
              "      <td>NaN</td>\n",
              "    </tr>\n",
              "    <tr>\n",
              "      <th>1</th>\n",
              "      <td>efe3f074c61959c2ea1906dd0346aa69</td>\n",
              "      <td>d16267</td>\n",
              "      <td>Slightly Interested</td>\n",
              "      <td>04-12-2021 09:32</td>\n",
              "      <td>NaN</td>\n",
              "      <td>API</td>\n",
              "      <td>12-01-2022 00:00</td>\n",
              "      <td>NaN</td>\n",
              "      <td>NaN</td>\n",
              "      <td>Sales lead</td>\n",
              "      <td>12-01-2022 17:17</td>\n",
              "      <td>Paid - Instagram</td>\n",
              "      <td>India</td>\n",
              "      <td>05-12-2021 00:00</td>\n",
              "      <td>No Show</td>\n",
              "      <td>NaN</td>\n",
              "    </tr>\n",
              "    <tr>\n",
              "      <th>2</th>\n",
              "      <td>d26dc5cd5843622a203cf396b4ee4b1a</td>\n",
              "      <td>d138f9</td>\n",
              "      <td>No Answer</td>\n",
              "      <td>15-04-2022 10:16</td>\n",
              "      <td>NaN</td>\n",
              "      <td>API</td>\n",
              "      <td>16-04-2022 00:00</td>\n",
              "      <td>NaN</td>\n",
              "      <td>NaN</td>\n",
              "      <td>NaN</td>\n",
              "      <td>16-04-2022 20:35</td>\n",
              "      <td>Paid-Adwords</td>\n",
              "      <td>In</td>\n",
              "      <td>NaN</td>\n",
              "      <td>NaN</td>\n",
              "      <td>NaN</td>\n",
              "    </tr>\n",
              "    <tr>\n",
              "      <th>3</th>\n",
              "      <td>d50acaedc1e5b9c18f8ceb3c6cff345b</td>\n",
              "      <td>38e2a6</td>\n",
              "      <td>Not Interested</td>\n",
              "      <td>21-10-2022 17:02</td>\n",
              "      <td>IN</td>\n",
              "      <td>API</td>\n",
              "      <td>23-10-2022 00:00</td>\n",
              "      <td>fresher</td>\n",
              "      <td>NaN</td>\n",
              "      <td>NaN</td>\n",
              "      <td>02-12-2022 13:35</td>\n",
              "      <td>Paid-Adwords</td>\n",
              "      <td>IN</td>\n",
              "      <td>22-11-2022 00:00</td>\n",
              "      <td>Scheduled</td>\n",
              "      <td>NaN</td>\n",
              "    </tr>\n",
              "    <tr>\n",
              "      <th>4</th>\n",
              "      <td>07758f3d12a23e68bb3b58b8009dd9a8</td>\n",
              "      <td>d130bb</td>\n",
              "      <td>Not Interested</td>\n",
              "      <td>25-10-2021 10:48</td>\n",
              "      <td>NaN</td>\n",
              "      <td>API</td>\n",
              "      <td>NaN</td>\n",
              "      <td>NaN</td>\n",
              "      <td>NaN</td>\n",
              "      <td>Sales lead</td>\n",
              "      <td>13-11-2021 14:51</td>\n",
              "      <td>Affiliate</td>\n",
              "      <td>India</td>\n",
              "      <td>NaN</td>\n",
              "      <td>NaN</td>\n",
              "      <td>NaN</td>\n",
              "    </tr>\n",
              "    <tr>\n",
              "      <th>5</th>\n",
              "      <td>665eb8f7c975b055afa58b5dda3a78bc</td>\n",
              "      <td>d5b5bd</td>\n",
              "      <td>Slightly Interested</td>\n",
              "      <td>24-11-2022 22:41</td>\n",
              "      <td>NaN</td>\n",
              "      <td>API</td>\n",
              "      <td>26-11-2022 00:00</td>\n",
              "      <td>NaN</td>\n",
              "      <td>Big Data engineering</td>\n",
              "      <td>NaN</td>\n",
              "      <td>26-11-2022 19:49</td>\n",
              "      <td>NaN</td>\n",
              "      <td>TR</td>\n",
              "      <td>NaN</td>\n",
              "      <td>NaN</td>\n",
              "      <td>NaN</td>\n",
              "    </tr>\n",
              "    <tr>\n",
              "      <th>6</th>\n",
              "      <td>a1ea99cba3b88f6c59fea8a84f051dec</td>\n",
              "      <td>d16267</td>\n",
              "      <td>No Answer</td>\n",
              "      <td>07-07-2022 14:50</td>\n",
              "      <td>NaN</td>\n",
              "      <td>API</td>\n",
              "      <td>NaN</td>\n",
              "      <td>NaN</td>\n",
              "      <td>NaN</td>\n",
              "      <td>Sales lead</td>\n",
              "      <td>08-07-2022 18:20</td>\n",
              "      <td>Medium</td>\n",
              "      <td>India</td>\n",
              "      <td>NaN</td>\n",
              "      <td>NaN</td>\n",
              "      <td>NaN</td>\n",
              "    </tr>\n",
              "    <tr>\n",
              "      <th>7</th>\n",
              "      <td>e69523450132baed2dd72836cdfc9778</td>\n",
              "      <td>d130bb</td>\n",
              "      <td>Not Interested</td>\n",
              "      <td>16-09-2021 23:37</td>\n",
              "      <td>NaN</td>\n",
              "      <td>API</td>\n",
              "      <td>NaN</td>\n",
              "      <td>Glass maker at home</td>\n",
              "      <td>NaN</td>\n",
              "      <td>Sales lead</td>\n",
              "      <td>12-11-2021 04:49</td>\n",
              "      <td>Paid - Facebook</td>\n",
              "      <td>India</td>\n",
              "      <td>NaN</td>\n",
              "      <td>NaN</td>\n",
              "      <td>NaN</td>\n",
              "    </tr>\n",
              "    <tr>\n",
              "      <th>8</th>\n",
              "      <td>fe244887bc37b5f49311c750ce6b279f</td>\n",
              "      <td>d138f9</td>\n",
              "      <td>No Answer</td>\n",
              "      <td>08-06-2022 13:30</td>\n",
              "      <td>NaN</td>\n",
              "      <td>API</td>\n",
              "      <td>24-06-2022 00:00</td>\n",
              "      <td>NaN</td>\n",
              "      <td>NaN</td>\n",
              "      <td>NaN</td>\n",
              "      <td>24-06-2022 10:44</td>\n",
              "      <td>Paid - Instagram</td>\n",
              "      <td>In</td>\n",
              "      <td>NaN</td>\n",
              "      <td>NaN</td>\n",
              "      <td>NaN</td>\n",
              "    </tr>\n",
              "    <tr>\n",
              "      <th>9</th>\n",
              "      <td>3500a29dc4849a7166e98db2e44ddc53</td>\n",
              "      <td>38e2a6</td>\n",
              "      <td>No Answer</td>\n",
              "      <td>21-10-2022 23:50</td>\n",
              "      <td>IN</td>\n",
              "      <td>API</td>\n",
              "      <td>23-10-2022 00:00</td>\n",
              "      <td>NaN</td>\n",
              "      <td>NaN</td>\n",
              "      <td>NaN</td>\n",
              "      <td>23-10-2022 11:09</td>\n",
              "      <td>Paid - Instagram</td>\n",
              "      <td>NaN</td>\n",
              "      <td>NaN</td>\n",
              "      <td>NaN</td>\n",
              "      <td>NaN</td>\n",
              "    </tr>\n",
              "  </tbody>\n",
              "</table>\n",
              "</div>"
            ],
            "text/plain": [
              "                            lead_id lead_owner       interest_level  \\\n",
              "0  5e502dcf828b8975a78e89f3e9aeac12     e14c3a       Not Interested   \n",
              "1  efe3f074c61959c2ea1906dd0346aa69     d16267  Slightly Interested   \n",
              "2  d26dc5cd5843622a203cf396b4ee4b1a     d138f9            No Answer   \n",
              "3  d50acaedc1e5b9c18f8ceb3c6cff345b     38e2a6       Not Interested   \n",
              "4  07758f3d12a23e68bb3b58b8009dd9a8     d130bb       Not Interested   \n",
              "5  665eb8f7c975b055afa58b5dda3a78bc     d5b5bd  Slightly Interested   \n",
              "6  a1ea99cba3b88f6c59fea8a84f051dec     d16267            No Answer   \n",
              "7  e69523450132baed2dd72836cdfc9778     d130bb       Not Interested   \n",
              "8  fe244887bc37b5f49311c750ce6b279f     d138f9            No Answer   \n",
              "9  3500a29dc4849a7166e98db2e44ddc53     38e2a6            No Answer   \n",
              "\n",
              "       lead_created auto_lead_location lead_creation_source  \\\n",
              "0  12-01-2023 16:42                 IN                  API   \n",
              "1  04-12-2021 09:32                NaN                  API   \n",
              "2  15-04-2022 10:16                NaN                  API   \n",
              "3  21-10-2022 17:02                 IN                  API   \n",
              "4  25-10-2021 10:48                NaN                  API   \n",
              "5  24-11-2022 22:41                NaN                  API   \n",
              "6  07-07-2022 14:50                NaN                  API   \n",
              "7  16-09-2021 23:37                NaN                  API   \n",
              "8  08-06-2022 13:30                NaN                  API   \n",
              "9  21-10-2022 23:50                 IN                  API   \n",
              "\n",
              "  next_activity_date         current_work      product_interest  \\\n",
              "0                NaN              Student                   NaN   \n",
              "1   12-01-2022 00:00                  NaN                   NaN   \n",
              "2   16-04-2022 00:00                  NaN                   NaN   \n",
              "3   23-10-2022 00:00              fresher                   NaN   \n",
              "4                NaN                  NaN                   NaN   \n",
              "5   26-11-2022 00:00                  NaN  Big Data engineering   \n",
              "6                NaN                  NaN                   NaN   \n",
              "7                NaN  Glass maker at home                   NaN   \n",
              "8   24-06-2022 00:00                  NaN                   NaN   \n",
              "9   23-10-2022 00:00                  NaN                   NaN   \n",
              "\n",
              "  website_source      lead_updated  marketing_source manual_lead_location  \\\n",
              "0            NaN  12-01-2023 19:27               NaN                India   \n",
              "1     Sales lead  12-01-2022 17:17  Paid - Instagram                India   \n",
              "2            NaN  16-04-2022 20:35      Paid-Adwords                   In   \n",
              "3            NaN  02-12-2022 13:35      Paid-Adwords                   IN   \n",
              "4     Sales lead  13-11-2021 14:51         Affiliate                India   \n",
              "5            NaN  26-11-2022 19:49               NaN                   TR   \n",
              "6     Sales lead  08-07-2022 18:20            Medium                India   \n",
              "7     Sales lead  12-11-2021 04:49   Paid - Facebook                India   \n",
              "8            NaN  24-06-2022 10:44  Paid - Instagram                   In   \n",
              "9            NaN  23-10-2022 11:09  Paid - Instagram                  NaN   \n",
              "\n",
              "          demo_date demo_status closure_date  \n",
              "0               NaN         NaN          NaN  \n",
              "1  05-12-2021 00:00     No Show          NaN  \n",
              "2               NaN         NaN          NaN  \n",
              "3  22-11-2022 00:00   Scheduled          NaN  \n",
              "4               NaN         NaN          NaN  \n",
              "5               NaN         NaN          NaN  \n",
              "6               NaN         NaN          NaN  \n",
              "7               NaN         NaN          NaN  \n",
              "8               NaN         NaN          NaN  \n",
              "9               NaN         NaN          NaN  "
            ]
          },
          "execution_count": 173,
          "metadata": {},
          "output_type": "execute_result"
        }
      ],
      "source": [
        "df.head(10)"
      ]
    },
    {
      "attachments": {},
      "cell_type": "markdown",
      "id": "819361ed",
      "metadata": {
        "id": "819361ed"
      },
      "source": [
        "## **Exploratory Data Analysis**"
      ]
    },
    {
      "cell_type": "code",
      "execution_count": 174,
      "id": "e749623a",
      "metadata": {
        "colab": {
          "base_uri": "https://localhost:8080/"
        },
        "id": "e749623a",
        "outputId": "96dc0ff5-8adc-4054-f86b-09ab5062751c"
      },
      "outputs": [
        {
          "data": {
            "text/plain": [
              "(38984, 16)"
            ]
          },
          "execution_count": 174,
          "metadata": {},
          "output_type": "execute_result"
        }
      ],
      "source": [
        "df.shape"
      ]
    },
    {
      "cell_type": "code",
      "execution_count": 178,
      "id": "f887b4d9",
      "metadata": {
        "colab": {
          "base_uri": "https://localhost:8080/"
        },
        "id": "f887b4d9",
        "outputId": "a5d6d6f0-6b00-4d14-f042-9f87d31c192b"
      },
      "outputs": [
        {
          "data": {
            "text/plain": [
              "Index(['lead_id', 'lead_owner', 'interest_level', 'lead_created',\n",
              "       'auto_lead_location', 'lead_creation_source', 'next_activity_date',\n",
              "       'current_work', 'product_interest', 'website_source', 'lead_updated',\n",
              "       'marketing_source', 'manual_lead_location', 'demo_date', 'demo_status',\n",
              "       'closure_date'],\n",
              "      dtype='object')"
            ]
          },
          "execution_count": 178,
          "metadata": {},
          "output_type": "execute_result"
        }
      ],
      "source": [
        "df.columns"
      ]
    },
    {
      "attachments": {},
      "cell_type": "markdown",
      "id": "14e94664",
      "metadata": {
        "id": "14e94664"
      },
      "source": [
        "## **Data Dictionary**\n",
        "\n",
        "\n",
        "\n",
        "| Column name\t | Description|\n",
        "| ----- | ----- |\n",
        "| lead_id |  Unique Identifier |\n",
        "| lead_owner |  Internal sales person associated with the lead |\n",
        "| interest_level |  What is lead's interest level? |\n",
        "| lead_created |  Lead creation date |\n",
        "| auto_lead_location |  Automatically detected location, auto detected by the system via IP address or other means |\n",
        "| creation_source|  Creation source of the lead |\n",
        "| next_activity_date|  Date for Next Activity |\n",
        "| current_work|  Current profile of lead |\n",
        "| product_interest|  Specific requirement from product |\n",
        "| website_source|  Website Source of the Lead, generated by what kind of interactions or features happened on the website |\n",
        "| lead_updated|  Last update time for Lead |\n",
        "| marketing_source|  Marketing Source of the Lead, marketing channels or strategies that generated the lead boarding onto the website in the first place. |\n",
        "| manual_lead_location |  Manually entered lead location, entered by the sales person or the lead itself. |\n",
        "| demo_date|  Date for Demo |\n",
        "| demo_status|  Status of demo booked with lead |\n",
        "| closure_date|  Lead closing date |"
      ]
    },
    {
      "cell_type": "code",
      "execution_count": 180,
      "id": "8beee630",
      "metadata": {
        "colab": {
          "base_uri": "https://localhost:8080/",
          "height": 377
        },
        "id": "8beee630",
        "outputId": "c4a967e6-ae2c-4fc6-80c8-0a02ca7b5da1"
      },
      "outputs": [
        {
          "data": {
            "text/html": [
              "<div>\n",
              "<style scoped>\n",
              "    .dataframe tbody tr th:only-of-type {\n",
              "        vertical-align: middle;\n",
              "    }\n",
              "\n",
              "    .dataframe tbody tr th {\n",
              "        vertical-align: top;\n",
              "    }\n",
              "\n",
              "    .dataframe thead th {\n",
              "        text-align: right;\n",
              "    }\n",
              "</style>\n",
              "<table border=\"1\" class=\"dataframe\">\n",
              "  <thead>\n",
              "    <tr style=\"text-align: right;\">\n",
              "      <th></th>\n",
              "      <th>count</th>\n",
              "      <th>unique</th>\n",
              "      <th>top</th>\n",
              "      <th>freq</th>\n",
              "    </tr>\n",
              "  </thead>\n",
              "  <tbody>\n",
              "    <tr>\n",
              "      <th>lead_id</th>\n",
              "      <td>38984</td>\n",
              "      <td>37450</td>\n",
              "      <td>bcbcf737090f0a52c59237fb0ee921d5</td>\n",
              "      <td>6</td>\n",
              "    </tr>\n",
              "    <tr>\n",
              "      <th>lead_owner</th>\n",
              "      <td>38984</td>\n",
              "      <td>23</td>\n",
              "      <td>2f6f7f</td>\n",
              "      <td>5643</td>\n",
              "    </tr>\n",
              "    <tr>\n",
              "      <th>interest_level</th>\n",
              "      <td>38847</td>\n",
              "      <td>8</td>\n",
              "      <td>Slightly Interested</td>\n",
              "      <td>14572</td>\n",
              "    </tr>\n",
              "    <tr>\n",
              "      <th>lead_created</th>\n",
              "      <td>38984</td>\n",
              "      <td>35951</td>\n",
              "      <td>13-01-2022 14:05</td>\n",
              "      <td>17</td>\n",
              "    </tr>\n",
              "    <tr>\n",
              "      <th>auto_lead_location</th>\n",
              "      <td>10810</td>\n",
              "      <td>169</td>\n",
              "      <td>IN</td>\n",
              "      <td>6735</td>\n",
              "    </tr>\n",
              "    <tr>\n",
              "      <th>lead_creation_source</th>\n",
              "      <td>38984</td>\n",
              "      <td>3</td>\n",
              "      <td>API</td>\n",
              "      <td>36291</td>\n",
              "    </tr>\n",
              "    <tr>\n",
              "      <th>next_activity_date</th>\n",
              "      <td>14776</td>\n",
              "      <td>2610</td>\n",
              "      <td>31-01-2023 00:00</td>\n",
              "      <td>74</td>\n",
              "    </tr>\n",
              "    <tr>\n",
              "      <th>current_work</th>\n",
              "      <td>16909</td>\n",
              "      <td>6831</td>\n",
              "      <td>Student</td>\n",
              "      <td>3406</td>\n",
              "    </tr>\n",
              "    <tr>\n",
              "      <th>product_interest</th>\n",
              "      <td>9970</td>\n",
              "      <td>4046</td>\n",
              "      <td>DS</td>\n",
              "      <td>481</td>\n",
              "    </tr>\n",
              "    <tr>\n",
              "      <th>website_source</th>\n",
              "      <td>24088</td>\n",
              "      <td>10</td>\n",
              "      <td>Sales lead</td>\n",
              "      <td>23121</td>\n",
              "    </tr>\n",
              "    <tr>\n",
              "      <th>lead_updated</th>\n",
              "      <td>38984</td>\n",
              "      <td>32693</td>\n",
              "      <td>06-03-2023 17:53</td>\n",
              "      <td>401</td>\n",
              "    </tr>\n",
              "    <tr>\n",
              "      <th>marketing_source</th>\n",
              "      <td>28339</td>\n",
              "      <td>46</td>\n",
              "      <td>SEO</td>\n",
              "      <td>10127</td>\n",
              "    </tr>\n",
              "    <tr>\n",
              "      <th>manual_lead_location</th>\n",
              "      <td>34974</td>\n",
              "      <td>415</td>\n",
              "      <td>IN</td>\n",
              "      <td>14126</td>\n",
              "    </tr>\n",
              "    <tr>\n",
              "      <th>demo_date</th>\n",
              "      <td>10851</td>\n",
              "      <td>583</td>\n",
              "      <td>30-07-2022 00:00</td>\n",
              "      <td>48</td>\n",
              "    </tr>\n",
              "    <tr>\n",
              "      <th>demo_status</th>\n",
              "      <td>11423</td>\n",
              "      <td>3</td>\n",
              "      <td>Scheduled</td>\n",
              "      <td>4000</td>\n",
              "    </tr>\n",
              "    <tr>\n",
              "      <th>closure_date</th>\n",
              "      <td>629</td>\n",
              "      <td>277</td>\n",
              "      <td>01-05-2022 00:00</td>\n",
              "      <td>9</td>\n",
              "    </tr>\n",
              "  </tbody>\n",
              "</table>\n",
              "</div>"
            ],
            "text/plain": [
              "                      count unique                               top   freq\n",
              "lead_id               38984  37450  bcbcf737090f0a52c59237fb0ee921d5      6\n",
              "lead_owner            38984     23                            2f6f7f   5643\n",
              "interest_level        38847      8               Slightly Interested  14572\n",
              "lead_created          38984  35951                  13-01-2022 14:05     17\n",
              "auto_lead_location    10810    169                                IN   6735\n",
              "lead_creation_source  38984      3                               API  36291\n",
              "next_activity_date    14776   2610                  31-01-2023 00:00     74\n",
              "current_work          16909   6831                           Student   3406\n",
              "product_interest       9970   4046                                DS    481\n",
              "website_source        24088     10                        Sales lead  23121\n",
              "lead_updated          38984  32693                  06-03-2023 17:53    401\n",
              "marketing_source      28339     46                               SEO  10127\n",
              "manual_lead_location  34974    415                                IN  14126\n",
              "demo_date             10851    583                  30-07-2022 00:00     48\n",
              "demo_status           11423      3                         Scheduled   4000\n",
              "closure_date            629    277                  01-05-2022 00:00      9"
            ]
          },
          "execution_count": 180,
          "metadata": {},
          "output_type": "execute_result"
        }
      ],
      "source": [
        "# Interest Level is the target variable\n",
        "\n",
        "# Check the Information of the Dataframe, number of unique values and frequency\n",
        "df.describe(include='all').T"
      ]
    },
    {
      "attachments": {},
      "cell_type": "markdown",
      "id": "3bbf6183",
      "metadata": {
        "id": "3bbf6183"
      },
      "source": [
        "\n",
        "Lead created, Next activity date, Lead Updated time and Demo Date should be datetime datatype but it is object. We will convert them into datetime datatype."
      ]
    },
    {
      "cell_type": "code",
      "execution_count": 189,
      "id": "efb1538f",
      "metadata": {
        "id": "efb1538f"
      },
      "outputs": [],
      "source": [
        "df['lead_created'] = pd.to_datetime(df['lead_created'], format=\"%d-%m-%Y %H:%M\")\n",
        "df['lead_updated'] = pd.to_datetime(df['lead_updated'], format=\"%d-%m-%Y %H:%M\")\n",
        "df['next_activity_date'] = pd.to_datetime(df['next_activity_date'], format=\"%d-%m-%Y %H:%M\")\n",
        "df['demo_date'] = pd.to_datetime(df['demo_date'], format=\"%d-%m-%Y %H:%M\")\n",
        "df['closure_date'] = pd.to_datetime(df['closure_date'], format=\"%d-%m-%Y %H:%M\")    "
      ]
    },
    {
      "cell_type": "code",
      "execution_count": 190,
      "id": "3f9ecec8",
      "metadata": {},
      "outputs": [
        {
          "name": "stdout",
          "output_type": "stream",
          "text": [
            "<class 'pandas.core.frame.DataFrame'>\n",
            "RangeIndex: 38984 entries, 0 to 38983\n",
            "Data columns (total 16 columns):\n",
            " #   Column                Non-Null Count  Dtype         \n",
            "---  ------                --------------  -----         \n",
            " 0   lead_id               38984 non-null  object        \n",
            " 1   lead_owner            38984 non-null  object        \n",
            " 2   interest_level        38847 non-null  object        \n",
            " 3   lead_created          38984 non-null  datetime64[ns]\n",
            " 4   auto_lead_location    10810 non-null  object        \n",
            " 5   lead_creation_source  38984 non-null  object        \n",
            " 6   next_activity_date    14776 non-null  datetime64[ns]\n",
            " 7   current_work          16909 non-null  object        \n",
            " 8   product_interest      9970 non-null   object        \n",
            " 9   website_source        24088 non-null  object        \n",
            " 10  lead_updated          38984 non-null  datetime64[ns]\n",
            " 11  marketing_source      28339 non-null  object        \n",
            " 12  manual_lead_location  34974 non-null  object        \n",
            " 13  demo_date             10851 non-null  datetime64[ns]\n",
            " 14  demo_status           11423 non-null  object        \n",
            " 15  closure_date          629 non-null    datetime64[ns]\n",
            "dtypes: datetime64[ns](5), object(11)\n",
            "memory usage: 4.8+ MB\n"
          ]
        }
      ],
      "source": [
        "df.info()"
      ]
    },
    {
      "cell_type": "code",
      "execution_count": 208,
      "id": "d7d59a9a",
      "metadata": {},
      "outputs": [
        {
          "data": {
            "text/plain": [
              "interest_level\n",
              "Slightly Interested    14572\n",
              "Not Interested         10545\n",
              "No Answer               9254\n",
              "Not called              1585\n",
              "Fairly Interested       1320\n",
              "Closed                   811\n",
              "Invalid Number           636\n",
              "Very Interested          124\n",
              "Name: count, dtype: int64"
            ]
          },
          "execution_count": 208,
          "metadata": {},
          "output_type": "execute_result"
        }
      ],
      "source": [
        "df['interest_level'].value_counts()"
      ]
    },
    {
      "attachments": {},
      "cell_type": "markdown",
      "id": "a8753a62",
      "metadata": {
        "id": "a8753a62"
      },
      "source": [
        "Lets see how many different Lead Owners we have. Analyzing the importance of the 'lead_owner' feature for model building."
      ]
    },
    {
      "cell_type": "code",
      "execution_count": 214,
      "id": "2badf7cb",
      "metadata": {
        "colab": {
          "base_uri": "https://localhost:8080/"
        },
        "id": "2badf7cb",
        "outputId": "30954b40-0274-49b1-df04-1e8ece7e61bd"
      },
      "outputs": [
        {
          "data": {
            "text/plain": [
              "array(['e14c3a', 'd16267', 'd138f9', '38e2a6', 'd130bb', 'd5b5bd',\n",
              "       '949886', 'fc348d', 'c18c01', '1eafbe', '2f6f7f', '5fe006',\n",
              "       '8a10c8', '1a9b5d', 'c5837c', '64c0b2', '684149', '154755',\n",
              "       'b89cfd', '8c20b0', '2c7db1', '65ed8c', '64347b'], dtype=object)"
            ]
          },
          "execution_count": 214,
          "metadata": {},
          "output_type": "execute_result"
        },
        {
          "name": "stdout",
          "output_type": "stream",
          "text": [
            "Unique lead owners: 23\n",
            "\n",
            "Conversion rates by lead owner:\n"
          ]
        },
        {
          "data": {
            "text/html": [
              "<div>\n",
              "<style scoped>\n",
              "    .dataframe tbody tr th:only-of-type {\n",
              "        vertical-align: middle;\n",
              "    }\n",
              "\n",
              "    .dataframe tbody tr th {\n",
              "        vertical-align: top;\n",
              "    }\n",
              "\n",
              "    .dataframe thead th {\n",
              "        text-align: right;\n",
              "    }\n",
              "</style>\n",
              "<table border=\"1\" class=\"dataframe\">\n",
              "  <thead>\n",
              "    <tr style=\"text-align: right;\">\n",
              "      <th>interest_level</th>\n",
              "      <th>Closed</th>\n",
              "      <th>Fairly Interested</th>\n",
              "      <th>Invalid Number</th>\n",
              "      <th>No Answer</th>\n",
              "      <th>Not Interested</th>\n",
              "      <th>Not called</th>\n",
              "      <th>Slightly Interested</th>\n",
              "      <th>Very Interested</th>\n",
              "    </tr>\n",
              "    <tr>\n",
              "      <th>lead_owner</th>\n",
              "      <th></th>\n",
              "      <th></th>\n",
              "      <th></th>\n",
              "      <th></th>\n",
              "      <th></th>\n",
              "      <th></th>\n",
              "      <th></th>\n",
              "      <th></th>\n",
              "    </tr>\n",
              "  </thead>\n",
              "  <tbody>\n",
              "    <tr>\n",
              "      <th>154755</th>\n",
              "      <td>NaN</td>\n",
              "      <td>0.058824</td>\n",
              "      <td>0.205882</td>\n",
              "      <td>0.235294</td>\n",
              "      <td>0.147059</td>\n",
              "      <td>NaN</td>\n",
              "      <td>0.352941</td>\n",
              "      <td>NaN</td>\n",
              "    </tr>\n",
              "    <tr>\n",
              "      <th>1a9b5d</th>\n",
              "      <td>0.072259</td>\n",
              "      <td>0.102159</td>\n",
              "      <td>0.009967</td>\n",
              "      <td>0.151163</td>\n",
              "      <td>0.117940</td>\n",
              "      <td>0.015781</td>\n",
              "      <td>0.514120</td>\n",
              "      <td>0.016611</td>\n",
              "    </tr>\n",
              "    <tr>\n",
              "      <th>1eafbe</th>\n",
              "      <td>0.017413</td>\n",
              "      <td>0.017222</td>\n",
              "      <td>0.005741</td>\n",
              "      <td>0.319939</td>\n",
              "      <td>0.084768</td>\n",
              "      <td>0.037696</td>\n",
              "      <td>0.516839</td>\n",
              "      <td>0.000383</td>\n",
              "    </tr>\n",
              "    <tr>\n",
              "      <th>2c7db1</th>\n",
              "      <td>0.003521</td>\n",
              "      <td>NaN</td>\n",
              "      <td>NaN</td>\n",
              "      <td>0.003521</td>\n",
              "      <td>0.992958</td>\n",
              "      <td>NaN</td>\n",
              "      <td>NaN</td>\n",
              "      <td>NaN</td>\n",
              "    </tr>\n",
              "    <tr>\n",
              "      <th>2f6f7f</th>\n",
              "      <td>0.015243</td>\n",
              "      <td>0.028713</td>\n",
              "      <td>0.009217</td>\n",
              "      <td>0.266749</td>\n",
              "      <td>0.409607</td>\n",
              "      <td>0.032081</td>\n",
              "      <td>0.235732</td>\n",
              "      <td>0.002659</td>\n",
              "    </tr>\n",
              "    <tr>\n",
              "      <th>38e2a6</th>\n",
              "      <td>0.016835</td>\n",
              "      <td>0.001684</td>\n",
              "      <td>0.023569</td>\n",
              "      <td>0.353535</td>\n",
              "      <td>0.324916</td>\n",
              "      <td>0.010101</td>\n",
              "      <td>0.269360</td>\n",
              "      <td>NaN</td>\n",
              "    </tr>\n",
              "    <tr>\n",
              "      <th>5fe006</th>\n",
              "      <td>0.013384</td>\n",
              "      <td>0.019120</td>\n",
              "      <td>0.005736</td>\n",
              "      <td>0.284895</td>\n",
              "      <td>0.307839</td>\n",
              "      <td>0.017208</td>\n",
              "      <td>0.344168</td>\n",
              "      <td>0.007648</td>\n",
              "    </tr>\n",
              "    <tr>\n",
              "      <th>64347b</th>\n",
              "      <td>1.000000</td>\n",
              "      <td>NaN</td>\n",
              "      <td>NaN</td>\n",
              "      <td>NaN</td>\n",
              "      <td>NaN</td>\n",
              "      <td>NaN</td>\n",
              "      <td>NaN</td>\n",
              "      <td>NaN</td>\n",
              "    </tr>\n",
              "    <tr>\n",
              "      <th>64c0b2</th>\n",
              "      <td>0.009524</td>\n",
              "      <td>0.031746</td>\n",
              "      <td>0.009524</td>\n",
              "      <td>0.180952</td>\n",
              "      <td>0.387302</td>\n",
              "      <td>NaN</td>\n",
              "      <td>0.377778</td>\n",
              "      <td>0.003175</td>\n",
              "    </tr>\n",
              "    <tr>\n",
              "      <th>65ed8c</th>\n",
              "      <td>0.142857</td>\n",
              "      <td>0.285714</td>\n",
              "      <td>NaN</td>\n",
              "      <td>NaN</td>\n",
              "      <td>NaN</td>\n",
              "      <td>NaN</td>\n",
              "      <td>0.571429</td>\n",
              "      <td>NaN</td>\n",
              "    </tr>\n",
              "    <tr>\n",
              "      <th>684149</th>\n",
              "      <td>0.003578</td>\n",
              "      <td>0.384615</td>\n",
              "      <td>0.003578</td>\n",
              "      <td>0.166369</td>\n",
              "      <td>0.366726</td>\n",
              "      <td>0.001789</td>\n",
              "      <td>0.073345</td>\n",
              "      <td>NaN</td>\n",
              "    </tr>\n",
              "    <tr>\n",
              "      <th>8a10c8</th>\n",
              "      <td>0.013752</td>\n",
              "      <td>0.031434</td>\n",
              "      <td>0.005894</td>\n",
              "      <td>0.304519</td>\n",
              "      <td>0.247544</td>\n",
              "      <td>0.005894</td>\n",
              "      <td>0.383104</td>\n",
              "      <td>0.007859</td>\n",
              "    </tr>\n",
              "    <tr>\n",
              "      <th>8c20b0</th>\n",
              "      <td>0.011994</td>\n",
              "      <td>0.086957</td>\n",
              "      <td>0.016492</td>\n",
              "      <td>0.157421</td>\n",
              "      <td>0.412294</td>\n",
              "      <td>0.022489</td>\n",
              "      <td>0.289355</td>\n",
              "      <td>0.002999</td>\n",
              "    </tr>\n",
              "    <tr>\n",
              "      <th>949886</th>\n",
              "      <td>0.134774</td>\n",
              "      <td>0.066872</td>\n",
              "      <td>NaN</td>\n",
              "      <td>0.036008</td>\n",
              "      <td>0.074074</td>\n",
              "      <td>0.039095</td>\n",
              "      <td>0.641975</td>\n",
              "      <td>0.007202</td>\n",
              "    </tr>\n",
              "    <tr>\n",
              "      <th>b89cfd</th>\n",
              "      <td>0.003571</td>\n",
              "      <td>0.058036</td>\n",
              "      <td>0.001786</td>\n",
              "      <td>0.092857</td>\n",
              "      <td>0.382143</td>\n",
              "      <td>0.004464</td>\n",
              "      <td>0.454464</td>\n",
              "      <td>0.002679</td>\n",
              "    </tr>\n",
              "    <tr>\n",
              "      <th>c18c01</th>\n",
              "      <td>0.003802</td>\n",
              "      <td>0.005703</td>\n",
              "      <td>0.011407</td>\n",
              "      <td>0.733840</td>\n",
              "      <td>0.144487</td>\n",
              "      <td>NaN</td>\n",
              "      <td>0.100760</td>\n",
              "      <td>NaN</td>\n",
              "    </tr>\n",
              "    <tr>\n",
              "      <th>c5837c</th>\n",
              "      <td>0.000708</td>\n",
              "      <td>0.014164</td>\n",
              "      <td>0.061615</td>\n",
              "      <td>0.296742</td>\n",
              "      <td>0.546742</td>\n",
              "      <td>0.010623</td>\n",
              "      <td>0.068697</td>\n",
              "      <td>0.000708</td>\n",
              "    </tr>\n",
              "    <tr>\n",
              "      <th>d130bb</th>\n",
              "      <td>0.018410</td>\n",
              "      <td>0.147280</td>\n",
              "      <td>NaN</td>\n",
              "      <td>0.148954</td>\n",
              "      <td>0.447699</td>\n",
              "      <td>0.028452</td>\n",
              "      <td>0.200837</td>\n",
              "      <td>0.008368</td>\n",
              "    </tr>\n",
              "    <tr>\n",
              "      <th>d138f9</th>\n",
              "      <td>0.015324</td>\n",
              "      <td>0.015324</td>\n",
              "      <td>0.022739</td>\n",
              "      <td>0.353435</td>\n",
              "      <td>0.239743</td>\n",
              "      <td>0.092931</td>\n",
              "      <td>0.256055</td>\n",
              "      <td>0.004449</td>\n",
              "    </tr>\n",
              "    <tr>\n",
              "      <th>d16267</th>\n",
              "      <td>0.013552</td>\n",
              "      <td>0.003011</td>\n",
              "      <td>0.049501</td>\n",
              "      <td>0.345379</td>\n",
              "      <td>0.288538</td>\n",
              "      <td>0.120271</td>\n",
              "      <td>0.177866</td>\n",
              "      <td>0.001882</td>\n",
              "    </tr>\n",
              "    <tr>\n",
              "      <th>d5b5bd</th>\n",
              "      <td>0.019923</td>\n",
              "      <td>0.009282</td>\n",
              "      <td>0.009735</td>\n",
              "      <td>0.089880</td>\n",
              "      <td>0.227077</td>\n",
              "      <td>0.025130</td>\n",
              "      <td>0.617614</td>\n",
              "      <td>0.001358</td>\n",
              "    </tr>\n",
              "    <tr>\n",
              "      <th>e14c3a</th>\n",
              "      <td>0.010029</td>\n",
              "      <td>0.004720</td>\n",
              "      <td>NaN</td>\n",
              "      <td>0.120944</td>\n",
              "      <td>0.325074</td>\n",
              "      <td>0.001180</td>\n",
              "      <td>0.538053</td>\n",
              "      <td>NaN</td>\n",
              "    </tr>\n",
              "    <tr>\n",
              "      <th>fc348d</th>\n",
              "      <td>0.015272</td>\n",
              "      <td>0.024376</td>\n",
              "      <td>0.011747</td>\n",
              "      <td>0.194126</td>\n",
              "      <td>0.200587</td>\n",
              "      <td>0.030250</td>\n",
              "      <td>0.520705</td>\n",
              "      <td>0.002937</td>\n",
              "    </tr>\n",
              "  </tbody>\n",
              "</table>\n",
              "</div>"
            ],
            "text/plain": [
              "interest_level    Closed  Fairly Interested  Invalid Number  No Answer  \\\n",
              "lead_owner                                                               \n",
              "154755               NaN           0.058824        0.205882   0.235294   \n",
              "1a9b5d          0.072259           0.102159        0.009967   0.151163   \n",
              "1eafbe          0.017413           0.017222        0.005741   0.319939   \n",
              "2c7db1          0.003521                NaN             NaN   0.003521   \n",
              "2f6f7f          0.015243           0.028713        0.009217   0.266749   \n",
              "38e2a6          0.016835           0.001684        0.023569   0.353535   \n",
              "5fe006          0.013384           0.019120        0.005736   0.284895   \n",
              "64347b          1.000000                NaN             NaN        NaN   \n",
              "64c0b2          0.009524           0.031746        0.009524   0.180952   \n",
              "65ed8c          0.142857           0.285714             NaN        NaN   \n",
              "684149          0.003578           0.384615        0.003578   0.166369   \n",
              "8a10c8          0.013752           0.031434        0.005894   0.304519   \n",
              "8c20b0          0.011994           0.086957        0.016492   0.157421   \n",
              "949886          0.134774           0.066872             NaN   0.036008   \n",
              "b89cfd          0.003571           0.058036        0.001786   0.092857   \n",
              "c18c01          0.003802           0.005703        0.011407   0.733840   \n",
              "c5837c          0.000708           0.014164        0.061615   0.296742   \n",
              "d130bb          0.018410           0.147280             NaN   0.148954   \n",
              "d138f9          0.015324           0.015324        0.022739   0.353435   \n",
              "d16267          0.013552           0.003011        0.049501   0.345379   \n",
              "d5b5bd          0.019923           0.009282        0.009735   0.089880   \n",
              "e14c3a          0.010029           0.004720             NaN   0.120944   \n",
              "fc348d          0.015272           0.024376        0.011747   0.194126   \n",
              "\n",
              "interest_level  Not Interested  Not called  Slightly Interested  \\\n",
              "lead_owner                                                        \n",
              "154755                0.147059         NaN             0.352941   \n",
              "1a9b5d                0.117940    0.015781             0.514120   \n",
              "1eafbe                0.084768    0.037696             0.516839   \n",
              "2c7db1                0.992958         NaN                  NaN   \n",
              "2f6f7f                0.409607    0.032081             0.235732   \n",
              "38e2a6                0.324916    0.010101             0.269360   \n",
              "5fe006                0.307839    0.017208             0.344168   \n",
              "64347b                     NaN         NaN                  NaN   \n",
              "64c0b2                0.387302         NaN             0.377778   \n",
              "65ed8c                     NaN         NaN             0.571429   \n",
              "684149                0.366726    0.001789             0.073345   \n",
              "8a10c8                0.247544    0.005894             0.383104   \n",
              "8c20b0                0.412294    0.022489             0.289355   \n",
              "949886                0.074074    0.039095             0.641975   \n",
              "b89cfd                0.382143    0.004464             0.454464   \n",
              "c18c01                0.144487         NaN             0.100760   \n",
              "c5837c                0.546742    0.010623             0.068697   \n",
              "d130bb                0.447699    0.028452             0.200837   \n",
              "d138f9                0.239743    0.092931             0.256055   \n",
              "d16267                0.288538    0.120271             0.177866   \n",
              "d5b5bd                0.227077    0.025130             0.617614   \n",
              "e14c3a                0.325074    0.001180             0.538053   \n",
              "fc348d                0.200587    0.030250             0.520705   \n",
              "\n",
              "interest_level  Very Interested  \n",
              "lead_owner                       \n",
              "154755                      NaN  \n",
              "1a9b5d                 0.016611  \n",
              "1eafbe                 0.000383  \n",
              "2c7db1                      NaN  \n",
              "2f6f7f                 0.002659  \n",
              "38e2a6                      NaN  \n",
              "5fe006                 0.007648  \n",
              "64347b                      NaN  \n",
              "64c0b2                 0.003175  \n",
              "65ed8c                      NaN  \n",
              "684149                      NaN  \n",
              "8a10c8                 0.007859  \n",
              "8c20b0                 0.002999  \n",
              "949886                 0.007202  \n",
              "b89cfd                 0.002679  \n",
              "c18c01                      NaN  \n",
              "c5837c                 0.000708  \n",
              "d130bb                 0.008368  \n",
              "d138f9                 0.004449  \n",
              "d16267                 0.001882  \n",
              "d5b5bd                 0.001358  \n",
              "e14c3a                      NaN  \n",
              "fc348d                 0.002937  "
            ]
          },
          "execution_count": 214,
          "metadata": {},
          "output_type": "execute_result"
        },
        {
          "name": "stdout",
          "output_type": "stream",
          "text": [
            "\n",
            "Performance metrics (% of 'Very Interested + Fairly Interested + Slightly Interested' leads) by lead owner:\n"
          ]
        },
        {
          "data": {
            "text/plain": [
              "lead_owner\n",
              "949886    0.705882\n",
              "d5b5bd    0.628254\n",
              "1a9b5d    0.605964\n",
              "65ed8c    0.600000\n",
              "fc348d    0.548018\n",
              "e14c3a    0.542773\n",
              "1eafbe    0.534443\n",
              "b89cfd    0.515179\n",
              "684149    0.457961\n",
              "8a10c8    0.422397\n",
              "154755    0.411765\n",
              "64c0b2    0.410095\n",
              "8c20b0    0.379310\n",
              "5fe006    0.369524\n",
              "d130bb    0.356485\n",
              "d138f9    0.275828\n",
              "38e2a6    0.271044\n",
              "2f6f7f    0.267057\n",
              "d16267    0.182759\n",
              "c18c01    0.106464\n",
              "c5837c    0.083392\n",
              "64347b    0.000000\n",
              "2c7db1    0.000000\n",
              "Name: interest_level, dtype: float64"
            ]
          },
          "execution_count": 214,
          "metadata": {},
          "output_type": "execute_result"
        }
      ],
      "source": [
        "df['lead_owner'].unique()\n",
        "\n",
        "# 1. Potential impact on lead conversion:\n",
        "print(\"Unique lead owners:\", df['lead_owner'].nunique())\n",
        "\n",
        "# 2. Check if there's any correlation between lead_owner and interest_level\n",
        "lead_owner_conversion = df.groupby('lead_owner')['interest_level'].value_counts(normalize=True).unstack()\n",
        "print(\"\\nConversion rates by lead owner:\")\n",
        "lead_owner_conversion\n",
        "\n",
        "# 3. Performance metrics:\n",
        "lead_owner_performance = df.groupby('lead_owner')['interest_level'].apply(lambda x: ((x == 'Very Interested') | (x == 'Fairly Interested') | (x == 'Slightly Interested')).mean())\n",
        "print(\"\\nPerformance metrics (% of 'Very Interested + Fairly Interested + Slightly Interested' leads) by lead owner:\")\n",
        "lead_owner_performance.sort_values(ascending=False) "
      ]
    },
    {
      "cell_type": "markdown",
      "id": "c89dbf59",
      "metadata": {},
      "source": [
        "#### Reasons to consider keeping 'lead_owner' as a feature:\n",
        "1. If there's significant variation in conversion rates among lead owners. It does show that some lead owners are more effective than others.\n",
        "2. If lead distribution is relatively even, reducing potential bias.\n",
        "3. If there's notable difference in performance metrics among lead owners. \n",
        "\n",
        "However, carefully evaluate the trade-offs between potential insights and the risk of overfitting or introducing bias."
      ]
    },
    {
      "cell_type": "code",
      "execution_count": 218,
      "id": "cee61b3f",
      "metadata": {
        "colab": {
          "base_uri": "https://localhost:8080/"
        },
        "id": "cee61b3f",
        "outputId": "473b4dd3-757a-4193-ec62-74406dd68d7e"
      },
      "outputs": [
        {
          "data": {
            "text/plain": [
              "array(['Not Interested', 'Slightly Interested', 'No Answer', 'Closed',\n",
              "       'Not called', 'Invalid Number', 'Fairly Interested', nan,\n",
              "       'Very Interested'], dtype=object)"
            ]
          },
          "execution_count": 218,
          "metadata": {},
          "output_type": "execute_result"
        },
        {
          "data": {
            "text/plain": [
              "interest_level\n",
              "Slightly Interested    14572\n",
              "Not Interested         10545\n",
              "No Answer               9254\n",
              "Not called              1585\n",
              "Fairly Interested       1320\n",
              "Closed                   811\n",
              "Invalid Number           636\n",
              "Very Interested          124\n",
              "Name: count, dtype: int64"
            ]
          },
          "execution_count": 218,
          "metadata": {},
          "output_type": "execute_result"
        }
      ],
      "source": [
        "df['interest_level'].unique()\n",
        "df['interest_level'].value_counts()"
      ]
    },
    {
      "cell_type": "code",
      "execution_count": 229,
      "id": "afec9220",
      "metadata": {
        "colab": {
          "base_uri": "https://localhost:8080/"
        },
        "id": "afec9220",
        "outputId": "7b3adacd-6b28-471c-e36f-aa9a5aab3bfc"
      },
      "outputs": [
        {
          "data": {
            "text/plain": [
              "current_work\n",
              "Student                           3406\n",
              "student                           1282\n",
              "Fresher                            298\n",
              "Working                            194\n",
              "Working pro                        148\n",
              "                                  ... \n",
              "JFW                                  1\n",
              "BTECH last year                      1\n",
              "Asst Project                         1\n",
              "He is working in Sales               1\n",
              "Course AIMA - Business Analyst       1\n",
              "Name: count, Length: 6831, dtype: int64"
            ]
          },
          "execution_count": 229,
          "metadata": {},
          "output_type": "execute_result"
        },
        {
          "name": "stdout",
          "output_type": "stream",
          "text": [
            "current_work_category\n",
            "Other                   26578\n",
            "Student/Fresher          6993\n",
            "Data/AI Professional     2708\n",
            "Working Professional     1628\n",
            "Engineer/Developer        905\n",
            "Business/Management       172\n",
            "Name: count, dtype: int64\n",
            "\n",
            "Percentage distribution:\n",
            "current_work_category\n",
            "Other                   68.176688\n",
            "Student/Fresher         17.938128\n",
            "Data/AI Professional     6.946440\n",
            "Working Professional     4.176072\n",
            "Engineer/Developer       2.321465\n",
            "Business/Management      0.441207\n",
            "Name: proportion, dtype: float64\n"
          ]
        },
        {
          "data": {
            "text/plain": [
              "<Figure size 1000x600 with 0 Axes>"
            ]
          },
          "execution_count": 229,
          "metadata": {},
          "output_type": "execute_result"
        },
        {
          "data": {
            "text/plain": [
              "<Axes: xlabel='current_work_category'>"
            ]
          },
          "execution_count": 229,
          "metadata": {},
          "output_type": "execute_result"
        },
        {
          "data": {
            "text/plain": [
              "Text(0.5, 1.0, 'Distribution of Current Work Categories')"
            ]
          },
          "execution_count": 229,
          "metadata": {},
          "output_type": "execute_result"
        },
        {
          "data": {
            "text/plain": [
              "Text(0.5, 0, 'Category')"
            ]
          },
          "execution_count": 229,
          "metadata": {},
          "output_type": "execute_result"
        },
        {
          "data": {
            "text/plain": [
              "Text(0, 0.5, 'Count')"
            ]
          },
          "execution_count": 229,
          "metadata": {},
          "output_type": "execute_result"
        },
        {
          "data": {
            "text/plain": [
              "(array([0, 1, 2, 3, 4, 5]),\n",
              " [Text(0, 0, 'Other'),\n",
              "  Text(1, 0, 'Student/Fresher'),\n",
              "  Text(2, 0, 'Data/AI Professional'),\n",
              "  Text(3, 0, 'Working Professional'),\n",
              "  Text(4, 0, 'Engineer/Developer'),\n",
              "  Text(5, 0, 'Business/Management')])"
            ]
          },
          "execution_count": 229,
          "metadata": {},
          "output_type": "execute_result"
        },
        {
          "data": {
            "image/png": "[encoded data removed]",
            "text/plain": [
              "<Figure size 1000x600 with 1 Axes>"
            ]
          },
          "metadata": {},
          "output_type": "display_data"
        }
      ],
      "source": [
        "df['current_work'].value_counts()\n",
        "\n",
        "# Handling the 'current_work' feature. The goal is to reduce the number of unique values in the column.\n",
        "\n",
        "# Function to categorize current_work\n",
        "def categorize_current_work(work):\n",
        "    work = str(work).lower()\n",
        "    if 'student' in work or 'fresher' in work or 'graduate' in work:\n",
        "        return 'Student/Fresher'\n",
        "    elif 'working' in work or 'employed' in work or 'professional' in work:\n",
        "        return 'Working Professional'\n",
        "    elif 'data' in work or 'analyst' in work or 'science' in work or 'ml' in work or 'ai' in work:\n",
        "        return 'Data/AI Professional'\n",
        "    elif 'engineer' in work or 'developer' in work or 'programming' in work:\n",
        "        return 'Engineer/Developer'\n",
        "    elif 'business' in work or 'manager' in work or 'executive' in work:\n",
        "        return 'Business/Management'\n",
        "    else:\n",
        "        return 'Other'\n",
        "\n",
        "# Apply the categorization\n",
        "df['current_work_category'] = df['current_work'].apply(categorize_current_work)\n",
        "\n",
        "# Display the distribution of the new categories\n",
        "print(df['current_work_category'].value_counts())\n",
        "print(\"\\nPercentage distribution:\")\n",
        "print(df['current_work_category'].value_counts(normalize=True) * 100)\n",
        "\n",
        "# Visualize the distribution\n",
        "import matplotlib.pyplot as plt\n",
        "\n",
        "plt.figure(figsize=(10, 6))\n",
        "df['current_work_category'].value_counts().plot(kind='bar')\n",
        "plt.title('Distribution of Current Work Categories')\n",
        "plt.xlabel('Category')\n",
        "plt.ylabel('Count')\n",
        "plt.xticks(rotation=45, ha='right')\n",
        "plt.tight_layout()\n",
        "plt.show()\n"
      ]
    },
    {
      "cell_type": "code",
      "execution_count": 233,
      "id": "bffefd6d",
      "metadata": {
        "colab": {
          "base_uri": "https://localhost:8080/"
        },
        "id": "bffefd6d",
        "outputId": "cc7c2a5c-1b54-42ae-a700-d600d1a642c4"
      },
      "outputs": [
        {
          "data": {
            "text/plain": [
              "(6832,)"
            ]
          },
          "execution_count": 233,
          "metadata": {},
          "output_type": "execute_result"
        },
        {
          "data": {
            "text/plain": [
              "(6,)"
            ]
          },
          "execution_count": 233,
          "metadata": {},
          "output_type": "execute_result"
        }
      ],
      "source": [
        "df['current_work'].unique().shape\n",
        "df['current_work_category'].unique().shape\n",
        "## reducing the number of unique values in the column down to 6"
      ]
    },
    {
      "cell_type": "code",
      "execution_count": 234,
      "id": "a3bbf1f6",
      "metadata": {
        "colab": {
          "base_uri": "https://localhost:8080/"
        },
        "id": "a3bbf1f6",
        "outputId": "71b5f333-1b0a-4929-ac9a-67c534ece622"
      },
      "outputs": [
        {
          "data": {
            "text/plain": [
              "array(['API', 'Manually created', 'Deal'], dtype=object)"
            ]
          },
          "execution_count": 234,
          "metadata": {},
          "output_type": "execute_result"
        },
        {
          "data": {
            "text/plain": [
              "lead_creation_source\n",
              "API                 36291\n",
              "Manually created     2533\n",
              "Deal                  160\n",
              "Name: count, dtype: int64"
            ]
          },
          "execution_count": 234,
          "metadata": {},
          "output_type": "execute_result"
        }
      ],
      "source": [
        "df['lead_creation_source'].unique()\n",
        "df['lead_creation_source'].value_counts()"
      ]
    },
    {
      "cell_type": "code",
      "execution_count": 235,
      "id": "d943605e",
      "metadata": {
        "colab": {
          "base_uri": "https://localhost:8080/"
        },
        "id": "d943605e",
        "outputId": "3e9cc48d-7c51-4910-de6b-96b00d3c667a"
      },
      "outputs": [
        {
          "data": {
            "text/plain": [
              "(4047,)"
            ]
          },
          "execution_count": 235,
          "metadata": {},
          "output_type": "execute_result"
        },
        {
          "data": {
            "text/plain": [
              "product_interest\n",
              "DS                                  481\n",
              "ML                                  325\n",
              "DS projects                         254\n",
              "ML projects                         221\n",
              "BD                                  158\n",
              "                                   ... \n",
              "Better knowledge & hands exp          1\n",
              "ds in shipping and logistics          1\n",
              "Better Knowledge & Career Opts        1\n",
              "Project for College project work      1\n",
              "DL, ML                                1\n",
              "Name: count, Length: 4046, dtype: int64"
            ]
          },
          "execution_count": 235,
          "metadata": {},
          "output_type": "execute_result"
        }
      ],
      "source": [
        "df['product_interest'].unique().shape\n",
        "df['product_interest'].value_counts()"
      ]
    },
    {
      "cell_type": "code",
      "execution_count": 236,
      "id": "0a7fdb11",
      "metadata": {
        "colab": {
          "base_uri": "https://localhost:8080/"
        },
        "id": "0a7fdb11",
        "outputId": "2e80d0e9-7fe9-41b4-f29e-0411f6270852"
      },
      "outputs": [
        {
          "data": {
            "text/plain": [
              "array([nan, 'Sales lead', 'Start Project', 'Demo button lead',\n",
              "       'Chat lead', 'Cashback lead', 'eBook',\n",
              "       'Demo button lead, Chat lead', 'Sales lead, Demo button lead',\n",
              "       'Sales lead, Chat lead', 'Sales lead, eBook'], dtype=object)"
            ]
          },
          "execution_count": 236,
          "metadata": {},
          "output_type": "execute_result"
        }
      ],
      "source": [
        "df['website_source'].unique()"
      ]
    },
    {
      "cell_type": "code",
      "execution_count": 237,
      "id": "43c6ffdb",
      "metadata": {
        "colab": {
          "base_uri": "https://localhost:8080/"
        },
        "id": "43c6ffdb",
        "outputId": "e6b7dc64-c268-43f9-e804-ff330c8c131b"
      },
      "outputs": [
        {
          "data": {
            "text/plain": [
              "website_source\n",
              "Sales lead                      23121\n",
              "Start Project                     560\n",
              "Demo button lead                  267\n",
              "Chat lead                         114\n",
              "Cashback lead                      10\n",
              "eBook                               5\n",
              "Sales lead, Demo button lead        5\n",
              "Sales lead, Chat lead               3\n",
              "Sales lead, eBook                   2\n",
              "Demo button lead, Chat lead         1\n",
              "Name: count, dtype: int64"
            ]
          },
          "execution_count": 237,
          "metadata": {},
          "output_type": "execute_result"
        }
      ],
      "source": [
        "df['website_source'].value_counts()"
      ]
    },
    {
      "cell_type": "code",
      "execution_count": 238,
      "id": "c0cc98be",
      "metadata": {
        "colab": {
          "base_uri": "https://localhost:8080/"
        },
        "id": "c0cc98be",
        "outputId": "2062fb74-3eec-4f80-b5e6-b884753e662d"
      },
      "outputs": [
        {
          "data": {
            "text/plain": [
              "marketing_source\n",
              "SEO                                            10127\n",
              "Paid - Instagram                                3895\n",
              "Paid-Adwords                                    3514\n",
              "Paid-YouTube                                    2652\n",
              "Affiliate                                       2531\n",
              "Medium                                          2215\n",
              "Paid - Facebook                                 1528\n",
              "Email Campaign                                  1050\n",
              "Paid - Linkedin                                  154\n",
              "Naukri                                           102\n",
              "Medium, Paid-Adwords                              70\n",
              "SEO, Medium, Paid-Adwords                         57\n",
              "Referral                                          50\n",
              "SEO, Affiliate                                    48\n",
              "Linkedin jobs                                     46\n",
              "SEO, Paid-Adwords                                 44\n",
              "SEO, Paid - Instagram                             34\n",
              "Affiliate, Medium                                 29\n",
              "SEO, Medium                                       26\n",
              "Paid - Instagram, Paid-Adwords                    24\n",
              "Paid-Adwords, Paid-YouTube                        20\n",
              "SEO, Paid-YouTube                                 16\n",
              "SEO, Paid - Facebook                              15\n",
              "Affiliate, Paid-Adwords                           14\n",
              "SEO, Paid - Instagram, Paid-Adwords               11\n",
              "SEO, Linkedin jobs                                 8\n",
              "Paid - Facebook, Paid-Adwords                      8\n",
              "SEO, Paid - Facebook, Paid-Adwords                 7\n",
              "SEO, Paid - Linkedin                               6\n",
              "SEO, Naukri                                        6\n",
              "Affiliate, Email Campaign                          4\n",
              "SEO, Paid - Instagram, Medium                      4\n",
              "Paid - Linkedin, Paid-Adwords                      3\n",
              "Paid - Instagram, Medium                           3\n",
              "Affiliate, Paid-YouTube                            3\n",
              "Paid - Facebook, Paid - Instagram                  2\n",
              "Paid-Adwords, Email Campaign                       2\n",
              "Medium, Paid-YouTube                               2\n",
              "SEO, Email Campaign                                2\n",
              "Paid - Linkedin, Medium                            1\n",
              "SEO, Paid - Instagram, Medium, Paid-Adwords        1\n",
              "Medium, Paid-Adwords, Paid-YouTube                 1\n",
              "Paid-YouTube, Email Campaign                       1\n",
              "Paid - Linkedin, Affiliate                         1\n",
              "SEO, Paid - Facebook, Medium                       1\n",
              "SEO, Affiliate, Medium                             1\n",
              "Name: count, dtype: int64"
            ]
          },
          "execution_count": 238,
          "metadata": {},
          "output_type": "execute_result"
        }
      ],
      "source": [
        "df['marketing_source'].value_counts()\n"
      ]
    },
    {
      "cell_type": "code",
      "execution_count": 239,
      "id": "850b8ea9",
      "metadata": {},
      "outputs": [
        {
          "name": "stdout",
          "output_type": "stream",
          "text": [
            "marketing_source_category\n",
            "Paid Advertising    0.306382\n",
            "Unknown             0.273061\n",
            "SEO                 0.267135\n",
            "Affiliate           0.065771\n",
            "Medium              0.056818\n",
            "Email Campaign      0.026934\n",
            "Job Portal          0.002616\n",
            "Other               0.001283\n",
            "Name: proportion, dtype: float64\n"
          ]
        },
        {
          "data": {
            "text/plain": [
              "<Figure size 1200x600 with 0 Axes>"
            ]
          },
          "execution_count": 239,
          "metadata": {},
          "output_type": "execute_result"
        },
        {
          "data": {
            "text/plain": [
              "<Axes: xlabel='marketing_source_category'>"
            ]
          },
          "execution_count": 239,
          "metadata": {},
          "output_type": "execute_result"
        },
        {
          "data": {
            "text/plain": [
              "Text(0.5, 1.0, 'Distribution of Marketing Source Categories')"
            ]
          },
          "execution_count": 239,
          "metadata": {},
          "output_type": "execute_result"
        },
        {
          "data": {
            "text/plain": [
              "Text(0.5, 0, 'Category')"
            ]
          },
          "execution_count": 239,
          "metadata": {},
          "output_type": "execute_result"
        },
        {
          "data": {
            "text/plain": [
              "Text(0, 0.5, 'Count')"
            ]
          },
          "execution_count": 239,
          "metadata": {},
          "output_type": "execute_result"
        },
        {
          "data": {
            "text/plain": [
              "(array([0, 1, 2, 3, 4, 5, 6, 7]),\n",
              " [Text(0, 0, 'Paid Advertising'),\n",
              "  Text(1, 0, 'Unknown'),\n",
              "  Text(2, 0, 'SEO'),\n",
              "  Text(3, 0, 'Affiliate'),\n",
              "  Text(4, 0, 'Medium'),\n",
              "  Text(5, 0, 'Email Campaign'),\n",
              "  Text(6, 0, 'Job Portal'),\n",
              "  Text(7, 0, 'Other')])"
            ]
          },
          "execution_count": 239,
          "metadata": {},
          "output_type": "execute_result"
        },
        {
          "data": {
            "image/png": "[encoded data removed]",
            "text/plain": [
              "<Figure size 1200x600 with 1 Axes>"
            ]
          },
          "metadata": {},
          "output_type": "display_data"
        }
      ],
      "source": [
        "# For the marketing_source feature:\n",
        "# 1. There are many unique values, with a long tail distribution\n",
        "# 2. The top categories (SEO, Paid - Instagram, Paid-Adwords, etc.) account for most of the data\n",
        "# 3. Some categories are very similar and could be grouped together\n",
        "# 4. There are some multi-channel entries that we need to handle\n",
        "\n",
        "# Let's categorize the marketing_source into broader categories\n",
        "def categorize_marketing_source(source):\n",
        "    if pd.isna(source):\n",
        "        return 'Unknown'\n",
        "    source = source.lower()\n",
        "    if 'seo' in source:\n",
        "        return 'SEO'\n",
        "    elif any(paid in source for paid in ['paid', 'adwords', 'youtube', 'facebook', 'instagram', 'linkedin']):\n",
        "        return 'Paid Advertising'\n",
        "    elif 'affiliate' in source:\n",
        "        return 'Affiliate'\n",
        "    elif 'email' in source:\n",
        "        return 'Email Campaign'\n",
        "    elif 'medium' in source:\n",
        "        return 'Medium'\n",
        "    elif 'naukri' in source:\n",
        "        return 'Job Portal'\n",
        "    else:\n",
        "        return 'Other'\n",
        "\n",
        "# Apply the categorization\n",
        "df['marketing_source_category'] = df['marketing_source'].apply(categorize_marketing_source)\n",
        "\n",
        "# Display the distribution of the new categories\n",
        "print(df['marketing_source_category'].value_counts(normalize=True))\n",
        "\n",
        "# Visualize the distribution\n",
        "plt.figure(figsize=(12, 6))\n",
        "df['marketing_source_category'].value_counts().plot(kind='bar')\n",
        "plt.title('Distribution of Marketing Source Categories')\n",
        "plt.xlabel('Category')\n",
        "plt.ylabel('Count')\n",
        "plt.xticks(rotation=45)\n",
        "plt.tight_layout()\n",
        "plt.show()\n"
      ]
    },
    {
      "cell_type": "code",
      "execution_count": 240,
      "id": "c9d9c2e1",
      "metadata": {
        "colab": {
          "base_uri": "https://localhost:8080/"
        },
        "id": "c9d9c2e1",
        "outputId": "61374b16-4141-4a6a-e158-fed423163e02"
      },
      "outputs": [
        {
          "data": {
            "text/plain": [
              "demo_status\n",
              "Scheduled    4000\n",
              "Done         3956\n",
              "No Show      3467\n",
              "Name: count, dtype: int64"
            ]
          },
          "execution_count": 240,
          "metadata": {},
          "output_type": "execute_result"
        }
      ],
      "source": [
        "df['demo_status'].value_counts()"
      ]
    },
    {
      "cell_type": "code",
      "execution_count": 241,
      "id": "5d203d71",
      "metadata": {
        "colab": {
          "base_uri": "https://localhost:8080/"
        },
        "id": "5d203d71",
        "outputId": "fc7711b9-4911-4a3c-a959-9f0996359463"
      },
      "outputs": [
        {
          "data": {
            "text/plain": [
              "manual_lead_location\n",
              "IN                       0.403900\n",
              "India                    0.322354\n",
              "In                       0.059444\n",
              "US                       0.046635\n",
              "in                       0.018128\n",
              "                           ...   \n",
              "Mumbai, India.           0.000029\n",
              "Hungary                  0.000029\n",
              "IN\\                      0.000029\n",
              "ps                       0.000029\n",
              "Vishakhapatnam, India    0.000029\n",
              "Name: proportion, Length: 415, dtype: float64"
            ]
          },
          "execution_count": 241,
          "metadata": {},
          "output_type": "execute_result"
        }
      ],
      "source": [
        "df['manual_lead_location'].value_counts(normalize=1)"
      ]
    },
    {
      "attachments": {},
      "cell_type": "markdown",
      "id": "f74ed9ea",
      "metadata": {
        "id": "f74ed9ea"
      },
      "source": [
        "## **Data Processing & Feature engineering**"
      ]
    },
    {
      "attachments": {},
      "cell_type": "markdown",
      "id": "51504bc4",
      "metadata": {
        "id": "51504bc4"
      },
      "source": [
        "We previously saw there are some missing values in the data. Lets have a look into that now."
      ]
    },
    {
      "cell_type": "code",
      "execution_count": 242,
      "id": "34b49383",
      "metadata": {
        "colab": {
          "base_uri": "https://localhost:8080/"
        },
        "id": "34b49383",
        "outputId": "f04358ae-742a-40ba-d100-2ac6d523f853"
      },
      "outputs": [
        {
          "data": {
            "text/plain": [
              "0"
            ]
          },
          "execution_count": 242,
          "metadata": {},
          "output_type": "execute_result"
        }
      ],
      "source": [
        "# lead_owner\n",
        "df['lead_owner'].isna().sum()"
      ]
    },
    {
      "cell_type": "code",
      "execution_count": 243,
      "id": "cbf04369",
      "metadata": {
        "colab": {
          "base_uri": "https://localhost:8080/"
        },
        "id": "cbf04369",
        "outputId": "42528089-6070-4412-e69a-9be9834e41fd"
      },
      "outputs": [
        {
          "data": {
            "text/plain": [
              "137"
            ]
          },
          "execution_count": 243,
          "metadata": {},
          "output_type": "execute_result"
        }
      ],
      "source": [
        "# interest_level\n",
        "df['interest_level'].isna().sum()"
      ]
    },
    {
      "attachments": {},
      "cell_type": "markdown",
      "id": "a751c7cd",
      "metadata": {
        "id": "a751c7cd"
      },
      "source": [
        "* Since target variable has missing values, we will drop such rows\n",
        "* It is better to drop rows where the target values are missing because the target variable is essential for training the model. \n",
        "* Missing target values mean that we do not have the correct labels for those rows, which can lead to incorrect training and evaluation of the model. \n",
        "* By dropping these rows, we ensure that the model is trained on complete and accurate data, leading to better performance and reliability."
      ]
    },
    {
      "cell_type": "code",
      "execution_count": 247,
      "id": "1ee1e68d",
      "metadata": {
        "id": "1ee1e68d"
      },
      "outputs": [],
      "source": [
        "df = df[df['interest_level'].notna()] ##"
      ]
    },
    {
      "cell_type": "code",
      "execution_count": 250,
      "id": "1ae56795",
      "metadata": {
        "colab": {
          "base_uri": "https://localhost:8080/"
        },
        "id": "1ae56795",
        "outputId": "40b846ae-570f-4b29-994c-62e5884c4fe5"
      },
      "outputs": [
        {
          "data": {
            "text/plain": [
              "interest_level\n",
              "Slightly Interested    14572\n",
              "Not Interested         10545\n",
              "No Answer               9254\n",
              "Not called              1585\n",
              "Fairly Interested       1320\n",
              "Closed                   811\n",
              "Invalid Number           636\n",
              "Very Interested          124\n",
              "Name: count, dtype: int64"
            ]
          },
          "execution_count": 250,
          "metadata": {},
          "output_type": "execute_result"
        }
      ],
      "source": [
        "df['interest_level'].value_counts()"
      ]
    },
    {
      "attachments": {},
      "cell_type": "markdown",
      "id": "ac69be7f",
      "metadata": {
        "id": "ac69be7f"
      },
      "source": [
        "##### Now we will handle our target variable\n",
        "\n",
        "Since there are multiple values in target variable and we want to formulate our problem as a binary classification problem, we will do the following assignments"
      ]
    },
    {
      "attachments": {},
      "cell_type": "markdown",
      "id": "e4da659a",
      "metadata": {
        "id": "e4da659a"
      },
      "source": [
        "**Label assignment:**\n",
        "* Slightly Interested = 1\n",
        "* Not Interested=0\n",
        "* No Answer=0\n",
        "* Fairly Interested=1\n",
        "* Very Interested=1\n",
        "\n",
        "* we will drop rows where value is Not called, Closed or Invalid Number"
      ]
    },
    {
      "cell_type": "code",
      "execution_count": 251,
      "id": "222c5cc0",
      "metadata": {
        "id": "222c5cc0"
      },
      "outputs": [],
      "source": [
        "# filter the DataFrame 'df' to exclude rows where the 'interest_level' column contains\n",
        "#  any of the values \"Not called\", \"Closed\", or \"Invalid Number\".\n",
        "df = df[~df['interest_level'].isin([\"Not called\", \"Closed\", \"Invalid Number\"])]"
      ]
    },
    {
      "cell_type": "code",
      "execution_count": 252,
      "id": "7cd536f8",
      "metadata": {
        "colab": {
          "base_uri": "https://localhost:8080/"
        },
        "id": "7cd536f8",
        "outputId": "329b75ac-6383-406e-ab00-41d33a1ce798"
      },
      "outputs": [
        {
          "data": {
            "text/plain": [
              "interest_level\n",
              "Slightly Interested    14572\n",
              "Not Interested         10545\n",
              "No Answer               9254\n",
              "Fairly Interested       1320\n",
              "Very Interested          124\n",
              "Name: count, dtype: int64"
            ]
          },
          "execution_count": 252,
          "metadata": {},
          "output_type": "execute_result"
        }
      ],
      "source": [
        "df['interest_level'].value_counts()"
      ]
    },
    {
      "cell_type": "code",
      "execution_count": 253,
      "id": "4a9bea5c",
      "metadata": {
        "id": "4a9bea5c"
      },
      "outputs": [],
      "source": [
        "# This line of code uses the replace method to achieve the same transformation as the lambda function.\n",
        "# It replaces the values \"Slightly Interested\", \"Fairly Interested\", and \"Very Interested\" with 1,\n",
        "# and the values \"Not Interested\" and \"No Answer\" with 0.\n",
        "# This also converts the 'interest_level' into a binary classification problem.\n",
        "# df['interest_level'] = df['interest_level'].replace({\n",
        "#     \"Slightly Interested\": 1,\n",
        "#     \"Fairly Interested\": 1,\n",
        "#     \"Very Interested\": 1,\n",
        "#     \"Not Interested\": 0,\n",
        "#     \"No Answer\": 0\n",
        "# })\n",
        "\n",
        "df['interest_level'] = df['interest_level'].apply(lambda x: 1 if x in [\"Slightly Interested\", \"Fairly Interested\", \"Very Interested\"] else 0)"
      ]
    },
    {
      "cell_type": "code",
      "execution_count": 254,
      "id": "cf0a06e1",
      "metadata": {
        "colab": {
          "base_uri": "https://localhost:8080/"
        },
        "id": "cf0a06e1",
        "outputId": "f882d24b-1710-402c-9d6f-e33378127fa8"
      },
      "outputs": [
        {
          "data": {
            "text/plain": [
              "interest_level\n",
              "0    19799\n",
              "1    16016\n",
              "Name: count, dtype: int64"
            ]
          },
          "execution_count": 254,
          "metadata": {},
          "output_type": "execute_result"
        }
      ],
      "source": [
        "df['interest_level'].value_counts()\n",
        "# That shows a good distribution of target variable."
      ]
    },
    {
      "attachments": {},
      "cell_type": "markdown",
      "id": "7d6d1c15",
      "metadata": {
        "id": "7d6d1c15"
      },
      "source": [
        "#### Drop not imporant columns"
      ]
    },
    {
      "cell_type": "code",
      "execution_count": 263,
      "id": "12479545",
      "metadata": {
        "colab": {
          "base_uri": "https://localhost:8080/"
        },
        "id": "12479545",
        "outputId": "71c41024-aca3-4cbc-c302-877ef76ce2c2"
      },
      "outputs": [
        {
          "data": {
            "text/plain": [
              "Index(['lead_id', 'lead_owner', 'interest_level', 'lead_created',\n",
              "       'auto_lead_location', 'lead_creation_source', 'next_activity_date',\n",
              "       'current_work', 'product_interest', 'website_source', 'lead_updated',\n",
              "       'marketing_source', 'manual_lead_location', 'demo_date', 'demo_status',\n",
              "       'closure_date', 'current_work_category', 'marketing_source_category'],\n",
              "      dtype='object')"
            ]
          },
          "execution_count": 263,
          "metadata": {},
          "output_type": "execute_result"
        }
      ],
      "source": [
        "df.columns"
      ]
    },
    {
      "cell_type": "code",
      "execution_count": 259,
      "id": "925b137d",
      "metadata": {},
      "outputs": [
        {
          "name": "stdout",
          "output_type": "stream",
          "text": [
            "Accuracy: 0.8563451067988274\n",
            "                      Feature  Importance\n",
            "13                demo_status    0.124582\n",
            "12                  demo_date    0.121398\n",
            "9                lead_updated    0.110783\n",
            "2                lead_created    0.109847\n",
            "0                     lead_id    0.088743\n",
            "1                  lead_owner    0.081086\n",
            "5          next_activity_date    0.075399\n",
            "7            product_interest    0.069035\n",
            "6                current_work    0.068291\n",
            "10           marketing_source    0.034149\n",
            "11       manual_lead_location    0.033485\n",
            "16  marketing_source_category    0.023018\n",
            "15      current_work_category    0.022026\n",
            "3          auto_lead_location    0.021599\n",
            "8              website_source    0.012716\n",
            "4        lead_creation_source    0.003597\n",
            "14               closure_date    0.000246\n"
          ]
        }
      ],
      "source": [
        "from sklearn.ensemble import RandomForestClassifier\n",
        "from sklearn.model_selection import train_test_split\n",
        "from sklearn.metrics import accuracy_score\n",
        "from sklearn.preprocessing import LabelEncoder\n",
        "\n",
        "def evaluate_feature_importance(df, target_column):\n",
        "    \"\"\"\n",
        "    This function evaluates the importance of features using RandomForestClassifier.\n",
        "    It also checks if RandomForestClassifier needs all features to be numerical values.\n",
        "    \n",
        "    Parameters:\n",
        "    df (pd.DataFrame): The input DataFrame.\n",
        "    target_column (str): The name of the target column.\n",
        "    \n",
        "    Returns:\n",
        "    pd.DataFrame: A DataFrame containing feature importances.\n",
        "    float: The accuracy of the RandomForestClassifier on the test set.\n",
        "    \"\"\"\n",
        "    # Prepare the data\n",
        "    X = df.drop(target_column, axis=1)\n",
        "    y = df[target_column]\n",
        "\n",
        "    # Convert categorical features to numerical values using LabelEncoder\n",
        "    label_encoders = {}\n",
        "    for column in X.select_dtypes(include=['object', 'datetime64[ns]']).columns:\n",
        "        le = LabelEncoder()\n",
        "        X[column] = le.fit_transform(X[column])\n",
        "        label_encoders[column] = le\n",
        "\n",
        "    # Split the data into training and testing sets\n",
        "    X_train, X_test, y_train, y_test = train_test_split(X, y, test_size=0.2, random_state=42)\n",
        "\n",
        "    # Train a RandomForestClassifier\n",
        "    clf = RandomForestClassifier(n_estimators=100, random_state=42)\n",
        "    clf.fit(X_train, y_train)\n",
        "\n",
        "    # Predict on the test set\n",
        "    y_pred = clf.predict(X_test)\n",
        "\n",
        "    # Calculate accuracy\n",
        "    accuracy = accuracy_score(y_test, y_pred)\n",
        "\n",
        "    # Get feature importances\n",
        "    feature_importances = clf.feature_importances_\n",
        "\n",
        "    # Create a DataFrame for feature importances\n",
        "    importances_df = pd.DataFrame({\n",
        "        \"Feature\": X.columns,\n",
        "        \"Importance\": feature_importances\n",
        "    })\n",
        "\n",
        "    # Sort the DataFrame by importance\n",
        "    importances_df = importances_df.sort_values(by=\"Importance\", ascending=False)\n",
        "\n",
        "    return importances_df, accuracy\n",
        "\n",
        "# Example usage\n",
        "df_test = df.copy()\n",
        "importances_df, accuracy = evaluate_feature_importance(df_test, \"interest_level\")\n",
        "print(f\"Accuracy: {accuracy}\")\n",
        "print(importances_df)"
      ]
    },
    {
      "cell_type": "code",
      "execution_count": 275,
      "id": "a61c7bce",
      "metadata": {
        "id": "a61c7bce"
      },
      "outputs": [],
      "source": [
        "## let's remove demo_date.\n",
        "## product_interest has too many missing values and it will be noisy if we do an imputation here.\n",
        "## closure_date has too many missing values and it will be noisy if we do an imputation here, also the correlation with target variable is weak.\n",
        "df = df.drop([\"lead_id\", \"auto_lead_location\", \"next_activity_date\", \"product_interest\",\n",
        "              \"lead_updated\", \"manual_lead_location\", \"demo_date\", \"closure_date\"], axis=1)"
      ]
    },
    {
      "cell_type": "code",
      "execution_count": null,
      "id": "f1e99702",
      "metadata": {},
      "outputs": [],
      "source": [
        "df = df.drop([\"current_work\", \"marketing_source\"], axis=1)\n",
        "df.rename(columns={\"current_work_category\": \"current_work\", \n",
        "                   \"marketing_source_category\": \"marketing_source\"}, inplace=True)\n",
        "df.info()"
      ]
    },
    {
      "cell_type": "code",
      "execution_count": null,
      "id": "1af4d8af",
      "metadata": {},
      "outputs": [],
      "source": [
        "df = df.drop([\"website_source\", \"demo_status\"], axis=1)"
      ]
    },
    {
      "attachments": {},
      "cell_type": "markdown",
      "id": "443b25ed",
      "metadata": {
        "id": "443b25ed"
      },
      "source": [
        "#### Lead creation time"
      ]
    },
    {
      "cell_type": "code",
      "execution_count": 285,
      "id": "d264b4d7",
      "metadata": {
        "id": "d264b4d7"
      },
      "outputs": [],
      "source": [
        "# Create day_of_week feature to capture potential patterns in lead creation across different days\n",
        "# This can help identify if certain days of the week are more likely to generate leads\n",
        "# 0 represents Monday, 1 for Tuesday, and so on up to 6 for Sunday\n",
        "df['hour_of_day'] = df['lead_created'].dt.hour\n",
        "df['day_of_week'] = df['lead_created'].dt.weekday\n",
        "df = df.drop([\"lead_created\"], axis=1)"
      ]
    },
    {
      "attachments": {},
      "cell_type": "markdown",
      "id": "b2f10f0e",
      "metadata": {
        "id": "b2f10f0e"
      },
      "source": [
        "#### Lead Creation source"
      ]
    },
    {
      "cell_type": "code",
      "execution_count": 289,
      "id": "9c2c683c",
      "metadata": {
        "colab": {
          "base_uri": "https://localhost:8080/"
        },
        "id": "9c2c683c",
        "outputId": "ea517c29-c100-4f8a-dec6-3d3ec53dafeb"
      },
      "outputs": [
        {
          "data": {
            "text/plain": [
              "lead_creation_source\n",
              "API                 33317\n",
              "Manually created     2346\n",
              "Deal                  152\n",
              "Name: count, dtype: int64"
            ]
          },
          "execution_count": 289,
          "metadata": {},
          "output_type": "execute_result"
        },
        {
          "data": {
            "text/plain": [
              "marketing_source\n",
              "Paid Advertising    11125\n",
              "SEO                  9995\n",
              "Unknown              9456\n",
              "Affiliate            2244\n",
              "Medium               2045\n",
              "Email Campaign        813\n",
              "Job Portal             99\n",
              "Other                  38\n",
              "Name: count, dtype: int64"
            ]
          },
          "execution_count": 289,
          "metadata": {},
          "output_type": "execute_result"
        }
      ],
      "source": [
        "df['lead_creation_source'].value_counts()\n",
        "df['marketing_source'].value_counts()"
      ]
    },
    {
      "cell_type": "code",
      "execution_count": 290,
      "id": "e8a78803",
      "metadata": {
        "id": "e8a78803"
      },
      "outputs": [
        {
          "data": {
            "text/plain": [
              "(35815,)"
            ]
          },
          "execution_count": 290,
          "metadata": {},
          "output_type": "execute_result"
        },
        {
          "data": {
            "text/plain": [
              "(3,)"
            ]
          },
          "execution_count": 290,
          "metadata": {},
          "output_type": "execute_result"
        }
      ],
      "source": [
        "from pandas import factorize\n",
        "labels, categories = factorize(df[\"lead_creation_source\"])\n",
        "labels.shape\n",
        "categories.shape\n"
      ]
    },
    {
      "cell_type": "code",
      "execution_count": 291,
      "id": "077bad84",
      "metadata": {
        "colab": {
          "base_uri": "https://localhost:8080/"
        },
        "id": "077bad84",
        "outputId": "65d7ca1f-dfb1-4643-bee5-0703f77dbcd6"
      },
      "outputs": [
        {
          "data": {
            "text/plain": [
              "0.008490292073158514"
            ]
          },
          "execution_count": 291,
          "metadata": {},
          "output_type": "execute_result"
        }
      ],
      "source": [
        "# Assign the numeric labels obtained from factorizing the 'Creation Source' column to a new column 'labels' in the dataframe.\n",
        "df[\"labels\"] = labels\n",
        "\n",
        "# Calculate the absolute value of the correlation between the 'Interest Level' column and the newly created 'labels' column.\n",
        "abs(df[\"interest_level\"].corr(df[\"labels\"]))"
      ]
    },
    {
      "attachments": {},
      "cell_type": "markdown",
      "id": "106e4d2e",
      "metadata": {
        "id": "106e4d2e"
      },
      "source": [
        "There is a positive correlation with the target variable"
      ]
    },
    {
      "cell_type": "code",
      "execution_count": 292,
      "id": "66a49fa2",
      "metadata": {
        "id": "66a49fa2"
      },
      "outputs": [],
      "source": [
        "df = df.drop([\"labels\"], axis=1)"
      ]
    },
    {
      "attachments": {},
      "cell_type": "markdown",
      "id": "20cabce1",
      "metadata": {
        "id": "20cabce1"
      },
      "source": [
        "### Label Encoding"
      ]
    },
    {
      "cell_type": "code",
      "execution_count": 295,
      "id": "0bad061b",
      "metadata": {
        "id": "0bad061b"
      },
      "outputs": [],
      "source": [
        "label_encoder1 = preprocessing.LabelEncoder()\n",
        "df['marketing_source']= label_encoder1.fit_transform(df['marketing_source'])"
      ]
    },
    {
      "cell_type": "code",
      "execution_count": 297,
      "id": "c8ca91f8",
      "metadata": {
        "id": "c8ca91f8"
      },
      "outputs": [],
      "source": [
        "label_encoder2 = preprocessing.LabelEncoder()\n",
        "df['lead_owner']= label_encoder2.fit_transform(df['lead_owner'])"
      ]
    },
    {
      "cell_type": "code",
      "execution_count": 299,
      "id": "5c191d4c",
      "metadata": {
        "id": "5c191d4c"
      },
      "outputs": [],
      "source": [
        "label_encoder3 = preprocessing.LabelEncoder()\n",
        "df['lead_creation_source']= label_encoder3.fit_transform(df['lead_creation_source'])"
      ]
    },
    {
      "cell_type": "code",
      "execution_count": 301,
      "id": "0161c642",
      "metadata": {},
      "outputs": [],
      "source": [
        "label_encoder4 = preprocessing.LabelEncoder()\n",
        "df['current_work']= label_encoder4.fit_transform(df['current_work'])"
      ]
    },
    {
      "cell_type": "code",
      "execution_count": 302,
      "id": "1b06bbf2",
      "metadata": {
        "colab": {
          "base_uri": "https://localhost:8080/",
          "height": 206
        },
        "id": "1b06bbf2",
        "outputId": "10026ea1-1f28-4d99-82bf-74c5f7ffba4d"
      },
      "outputs": [
        {
          "data": {
            "text/html": [
              "<div>\n",
              "<style scoped>\n",
              "    .dataframe tbody tr th:only-of-type {\n",
              "        vertical-align: middle;\n",
              "    }\n",
              "\n",
              "    .dataframe tbody tr th {\n",
              "        vertical-align: top;\n",
              "    }\n",
              "\n",
              "    .dataframe thead th {\n",
              "        text-align: right;\n",
              "    }\n",
              "</style>\n",
              "<table border=\"1\" class=\"dataframe\">\n",
              "  <thead>\n",
              "    <tr style=\"text-align: right;\">\n",
              "      <th></th>\n",
              "      <th>lead_owner</th>\n",
              "      <th>interest_level</th>\n",
              "      <th>lead_creation_source</th>\n",
              "      <th>current_work</th>\n",
              "      <th>marketing_source</th>\n",
              "      <th>hour_of_day</th>\n",
              "      <th>day_of_week</th>\n",
              "    </tr>\n",
              "  </thead>\n",
              "  <tbody>\n",
              "    <tr>\n",
              "      <th>0</th>\n",
              "      <td>20</td>\n",
              "      <td>0</td>\n",
              "      <td>0</td>\n",
              "      <td>4</td>\n",
              "      <td>7</td>\n",
              "      <td>16</td>\n",
              "      <td>3</td>\n",
              "    </tr>\n",
              "    <tr>\n",
              "      <th>1</th>\n",
              "      <td>18</td>\n",
              "      <td>1</td>\n",
              "      <td>0</td>\n",
              "      <td>3</td>\n",
              "      <td>5</td>\n",
              "      <td>9</td>\n",
              "      <td>5</td>\n",
              "    </tr>\n",
              "    <tr>\n",
              "      <th>2</th>\n",
              "      <td>17</td>\n",
              "      <td>0</td>\n",
              "      <td>0</td>\n",
              "      <td>3</td>\n",
              "      <td>5</td>\n",
              "      <td>10</td>\n",
              "      <td>4</td>\n",
              "    </tr>\n",
              "    <tr>\n",
              "      <th>3</th>\n",
              "      <td>5</td>\n",
              "      <td>0</td>\n",
              "      <td>0</td>\n",
              "      <td>4</td>\n",
              "      <td>5</td>\n",
              "      <td>17</td>\n",
              "      <td>4</td>\n",
              "    </tr>\n",
              "    <tr>\n",
              "      <th>4</th>\n",
              "      <td>16</td>\n",
              "      <td>0</td>\n",
              "      <td>0</td>\n",
              "      <td>3</td>\n",
              "      <td>0</td>\n",
              "      <td>10</td>\n",
              "      <td>0</td>\n",
              "    </tr>\n",
              "  </tbody>\n",
              "</table>\n",
              "</div>"
            ],
            "text/plain": [
              "   lead_owner  interest_level  lead_creation_source  current_work  \\\n",
              "0          20               0                     0             4   \n",
              "1          18               1                     0             3   \n",
              "2          17               0                     0             3   \n",
              "3           5               0                     0             4   \n",
              "4          16               0                     0             3   \n",
              "\n",
              "   marketing_source  hour_of_day  day_of_week  \n",
              "0                 7           16            3  \n",
              "1                 5            9            5  \n",
              "2                 5           10            4  \n",
              "3                 5           17            4  \n",
              "4                 0           10            0  "
            ]
          },
          "execution_count": 302,
          "metadata": {},
          "output_type": "execute_result"
        }
      ],
      "source": [
        "df.head()"
      ]
    },
    {
      "attachments": {},
      "cell_type": "markdown",
      "id": "0ee8a1c7",
      "metadata": {
        "id": "0ee8a1c7"
      },
      "source": [
        "We transformed 4 columns using label encoding\n",
        "\n",
        "Remember one thing, you should always use the same label encoding variable for test dataset. Since here we are handling train/test together, we are not worrying about it"
      ]
    },
    {
      "attachments": {},
      "cell_type": "markdown",
      "id": "5c348cd6",
      "metadata": {
        "id": "5c348cd6"
      },
      "source": [
        "## **Model Building and Testing**"
      ]
    },
    {
      "cell_type": "code",
      "execution_count": 303,
      "id": "cbb206b5",
      "metadata": {
        "id": "cbb206b5"
      },
      "outputs": [],
      "source": [
        "from sklearn.ensemble import RandomForestClassifier, GradientBoostingClassifier, AdaBoostClassifier\n",
        "from sklearn.metrics import accuracy_score, precision_recall_curve, roc_curve \n",
        "from sklearn.metrics import RocCurveDisplay, PrecisionRecallDisplay\n",
        "from sklearn.model_selection import train_test_split\n",
        "\n",
        "from xgboost import XGBClassifier\n",
        "from lightgbm import LGBMClassifier"
      ]
    },
    {
      "attachments": {},
      "cell_type": "markdown",
      "id": "ab5cb15e",
      "metadata": {
        "id": "ab5cb15e"
      },
      "source": [
        "Identify the right features for the model"
      ]
    },
    {
      "cell_type": "code",
      "execution_count": 304,
      "id": "5f22e051",
      "metadata": {
        "id": "5f22e051"
      },
      "outputs": [],
      "source": [
        "y = df[\"interest_level\"]\n",
        "X = df.drop([\"interest_level\"], axis=1)"
      ]
    },
    {
      "attachments": {},
      "cell_type": "markdown",
      "id": "d16b1e64",
      "metadata": {
        "id": "d16b1e64"
      },
      "source": [
        "**Splitting the dataset into a training and production dataset:**\n",
        "\n",
        "- Training: Part of data used for training our supervised models\n",
        "- Test: Part of the dataset used for testing our models performance"
      ]
    },
    {
      "cell_type": "code",
      "execution_count": 305,
      "id": "e5ee0e32",
      "metadata": {
        "id": "e5ee0e32"
      },
      "outputs": [
        {
          "data": {
            "text/html": [
              "<div>\n",
              "<style scoped>\n",
              "    .dataframe tbody tr th:only-of-type {\n",
              "        vertical-align: middle;\n",
              "    }\n",
              "\n",
              "    .dataframe tbody tr th {\n",
              "        vertical-align: top;\n",
              "    }\n",
              "\n",
              "    .dataframe thead th {\n",
              "        text-align: right;\n",
              "    }\n",
              "</style>\n",
              "<table border=\"1\" class=\"dataframe\">\n",
              "  <thead>\n",
              "    <tr style=\"text-align: right;\">\n",
              "      <th></th>\n",
              "      <th>lead_owner</th>\n",
              "      <th>lead_creation_source</th>\n",
              "      <th>current_work</th>\n",
              "      <th>marketing_source</th>\n",
              "      <th>hour_of_day</th>\n",
              "      <th>day_of_week</th>\n",
              "    </tr>\n",
              "  </thead>\n",
              "  <tbody>\n",
              "    <tr>\n",
              "      <th>2201</th>\n",
              "      <td>19</td>\n",
              "      <td>0</td>\n",
              "      <td>4</td>\n",
              "      <td>7</td>\n",
              "      <td>4</td>\n",
              "      <td>2</td>\n",
              "    </tr>\n",
              "    <tr>\n",
              "      <th>29205</th>\n",
              "      <td>4</td>\n",
              "      <td>0</td>\n",
              "      <td>4</td>\n",
              "      <td>6</td>\n",
              "      <td>19</td>\n",
              "      <td>2</td>\n",
              "    </tr>\n",
              "    <tr>\n",
              "      <th>24325</th>\n",
              "      <td>18</td>\n",
              "      <td>0</td>\n",
              "      <td>5</td>\n",
              "      <td>3</td>\n",
              "      <td>3</td>\n",
              "      <td>1</td>\n",
              "    </tr>\n",
              "    <tr>\n",
              "      <th>20499</th>\n",
              "      <td>1</td>\n",
              "      <td>0</td>\n",
              "      <td>3</td>\n",
              "      <td>7</td>\n",
              "      <td>16</td>\n",
              "      <td>1</td>\n",
              "    </tr>\n",
              "    <tr>\n",
              "      <th>34645</th>\n",
              "      <td>17</td>\n",
              "      <td>0</td>\n",
              "      <td>1</td>\n",
              "      <td>6</td>\n",
              "      <td>12</td>\n",
              "      <td>0</td>\n",
              "    </tr>\n",
              "  </tbody>\n",
              "</table>\n",
              "</div>"
            ],
            "text/plain": [
              "       lead_owner  lead_creation_source  current_work  marketing_source  \\\n",
              "2201           19                     0             4                 7   \n",
              "29205           4                     0             4                 6   \n",
              "24325          18                     0             5                 3   \n",
              "20499           1                     0             3                 7   \n",
              "34645          17                     0             1                 6   \n",
              "\n",
              "       hour_of_day  day_of_week  \n",
              "2201             4            2  \n",
              "29205           19            2  \n",
              "24325            3            1  \n",
              "20499           16            1  \n",
              "34645           12            0  "
            ]
          },
          "execution_count": 305,
          "metadata": {},
          "output_type": "execute_result"
        }
      ],
      "source": [
        "X_train, X_test, y_train, y_test = train_test_split(X, y, test_size=0.2, random_state=42)\n",
        "X_train.head()"
      ]
    },
    {
      "attachments": {},
      "cell_type": "markdown",
      "id": "86132c80",
      "metadata": {
        "id": "86132c80"
      },
      "source": [
        "We finally have prepared model ready data.\n",
        "\n",
        "Lets do the fun part: model building now."
      ]
    },
    {
      "cell_type": "code",
      "execution_count": null,
      "id": "876217ff",
      "metadata": {
        "id": "876217ff"
      },
      "outputs": [],
      "source": [
        "# The following code initializes three different classifiers: RandomForestClassifier, XGBClassifier, and LGBMClassifier.\n",
        "# RandomForestClassifier is set with 300 estimators.\n",
        "# XGBClassifier is set with 300 estimators, a binary logistic objective, histogram-based tree method, learning rate (eta) of 0.1, and a maximum depth of 3.\n",
        "# LGBMClassifier is set with 300 estimators.\n",
        "rf = RandomForestClassifier(n_estimators=300)\n",
        "xgb = XGBClassifier(n_estimators=300, objective='binary:logistic', tree_method='hist', eta=0.1, max_depth=3)\n",
        "lgb = LGBMClassifier(n_estimators=300)\n",
        "\n",
        "# rf = RandomForestClassifier(n_estimators=300, max_depth=10, min_samples_split=5, min_samples_leaf=2, max_features='sqrt')\n",
        "# xgb = XGBClassifier(n_estimators=300, objective='binary:logistic', tree_method='hist', eta=0.1, max_depth=3, subsample=0.8, colsample_bytree=0.8)\n",
        "# lgb = LGBMClassifier(n_estimators=300, learning_rate=0.05, num_leaves=31, max_depth=-1, min_child_samples=20, subsample=0.8, colsample_bytree=0.8)\n",
        "\n",
        "# Define parameter grids for each model\n",
        "\n",
        "# Random Forest parameters\n",
        "rf_param_grid = {\n",
        "    'n_estimators': [100, 200, 300],\n",
        "    'max_depth': [5, 10, 15],\n",
        "    'min_samples_split': [2, 5, 10],\n",
        "    'min_samples_leaf': [1, 2, 4]\n",
        "}\n",
        "\n",
        "# XGBoost parameters\n",
        "xgb_param_grid = {\n",
        "    'n_estimators': [100, 200, 300],\n",
        "    'max_depth': [3, 5, 7],\n",
        "    'learning_rate': [0.01, 0.1, 0.3],\n",
        "    'subsample': [0.8, 0.9, 1.0],\n",
        "    'colsample_bytree': [0.8, 0.9, 1.0]\n",
        "}\n",
        "\n",
        "# LightGBM parameters\n",
        "lgb_param_grid = {\n",
        "    'n_estimators': [100, 200, 300],\n",
        "    'num_leaves': [31, 63, 127],\n",
        "    'learning_rate': [0.01, 0.1, 0.3],\n",
        "    'subsample': [0.8, 0.9, 1.0],\n",
        "    'colsample_bytree': [0.8, 0.9, 1.0]\n",
        "}\n",
        "\n",
        "# Perform RandomizedSearchCV for each model\n",
        "from sklearn.model_selection import RandomizedSearchCV\n",
        "\n",
        "rf_random = RandomizedSearchCV(estimator=rf, param_distributions=rf_param_grid, n_iter=10, cv=3, verbose=2, random_state=42, n_jobs=-1)\n",
        "xgb_random = RandomizedSearchCV(estimator=xgb, param_distributions=xgb_param_grid, n_iter=10, cv=3, verbose=2, random_state=42, n_jobs=-1)\n",
        "lgb_random = RandomizedSearchCV(estimator=lgb, param_distributions=lgb_param_grid, n_iter=10, cv=3, verbose=2, random_state=42, n_jobs=-1)\n",
        "\n",
        "# Fit RandomizedSearchCV\n",
        "rf_random.fit(X_train, y_train)\n",
        "xgb_random.fit(X_train, y_train)\n",
        "lgb_random.fit(X_train, y_train)\n",
        "\n",
        "# Get best parameters and models\n",
        "rf_best = rf_random.best_estimator_\n",
        "xgb_best = xgb_random.best_estimator_\n",
        "lgb_best = lgb_random.best_estimator_\n",
        "\n",
        "print(\"Best parameters for Random Forest:\", rf_random.best_params_)\n",
        "print(\"Best parameters for XGBoost:\", xgb_random.best_params_)\n",
        "print(\"Best parameters for LightGBM:\", lgb_random.best_params_)\n",
        "\n",
        "# Train models with best parameters\n",
        "rf_best.fit(X_train, y_train)\n",
        "xgb_best.fit(X_train, y_train)\n",
        "lgb_best.fit(X_train, y_train)\n",
        "\n",
        "# Evaluate models\n",
        "from sklearn.metrics import accuracy_score, f1_score, precision_score, recall_score\n",
        "\n",
        "def evaluate_model(model, X_test, y_test):\n",
        "    y_pred = model.predict(X_test)\n",
        "    accuracy = accuracy_score(y_test, y_pred)\n",
        "    f1 = f1_score(y_test, y_pred)\n",
        "    precision = precision_score(y_test, y_pred)\n",
        "    recall = recall_score(y_test, y_pred)\n",
        "    return accuracy, f1, precision, recall\n",
        "\n",
        "print(\"\\nRandom Forest Evaluation:\")\n",
        "rf_scores = evaluate_model(rf_best, X_test, y_test)\n",
        "print(f\"Accuracy: {rf_scores[0]:.4f}, F1: {rf_scores[1]:.4f}, Precision: {rf_scores[2]:.4f}, Recall: {rf_scores[3]:.4f}\")\n",
        "\n",
        "print(\"\\nXGBoost Evaluation:\")\n",
        "xgb_scores = evaluate_model(xgb_best, X_test, y_test)\n",
        "print(f\"Accuracy: {xgb_scores[0]:.4f}, F1: {xgb_scores[1]:.4f}, Precision: {xgb_scores[2]:.4f}, Recall: {xgb_scores[3]:.4f}\")\n",
        "\n",
        "print(\"\\nLightGBM Evaluation:\")\n",
        "lgb_scores = evaluate_model(lgb_best, X_test, y_test)\n",
        "print(f\"Accuracy: {lgb_scores[0]:.4f}, F1: {lgb_scores[1]:.4f}, Precision: {lgb_scores[2]:.4f}, Recall: {lgb_scores[3]:.4f}\")\n"
      ]
    },
    {
      "attachments": {},
      "cell_type": "markdown",
      "id": "21a59533",
      "metadata": {
        "id": "21a59533"
      },
      "source": [
        "#### Training multiple models together"
      ]
    },
    {
      "cell_type": "code",
      "execution_count": null,
      "id": "44028c29",
      "metadata": {
        "id": "44028c29",
        "outputId": "60050c36-4e72-4eff-d3bc-08a4a258ea27"
      },
      "outputs": [],
      "source": [
        "rf.fit(X_train, y_train)\n",
        "xgb.fit(X_train, y_train)\n",
        "lgb.fit(X_train, y_train)"
      ]
    },
    {
      "attachments": {},
      "cell_type": "markdown",
      "id": "311e02e5",
      "metadata": {
        "id": "311e02e5"
      },
      "source": [
        "All models are trained very qucikly here.\n",
        "\n",
        "Scitkit-learn provides an additional parameter n_jobs=-1 which parallelize some of the models using cpu threads"
      ]
    },
    {
      "attachments": {},
      "cell_type": "markdown",
      "id": "d630bb00",
      "metadata": {
        "id": "d630bb00"
      },
      "source": [
        "# Model Evaluation"
      ]
    },
    {
      "cell_type": "code",
      "execution_count": 313,
      "id": "7d82e76a",
      "metadata": {
        "id": "7d82e76a"
      },
      "outputs": [],
      "source": [
        "def get_evaluation_metrics(model_name, model, pred, actual):\n",
        "    print(\"Accuracy of %s: \" % model_name, accuracy_score(pred, actual))"
      ]
    },
    {
      "cell_type": "code",
      "execution_count": 314,
      "id": "4a29ac28",
      "metadata": {
        "id": "4a29ac28",
        "outputId": "8fe9aff2-192b-4e67-d349-b62f15ee6f16"
      },
      "outputs": [
        {
          "name": "stdout",
          "output_type": "stream",
          "text": [
            "Accuracy of Random Forest:  0.707943599050677\n",
            "Accuracy of XGBoost:  0.7445204523244451\n",
            "Accuracy of Light GBM:  0.7435432081530086\n"
          ]
        }
      ],
      "source": [
        "get_evaluation_metrics(\"Random Forest\", rf, rf.predict(X_test), y_test)\n",
        "get_evaluation_metrics(\"XGBoost\", xgb, xgb.predict(X_test), y_test)\n",
        "get_evaluation_metrics(\"Light GBM\", lgb, lgb.predict(X_test), y_test)"
      ]
    },
    {
      "cell_type": "code",
      "execution_count": 316,
      "id": "a76e6a2f",
      "metadata": {},
      "outputs": [
        {
          "name": "stdout",
          "output_type": "stream",
          "text": [
            "Accuracy of Random Forest:  0.743822420773419\n",
            "Accuracy of XGBoost:  0.7470333659081391\n",
            "Accuracy of Light GBM:  0.7499650984224487\n"
          ]
        }
      ],
      "source": [
        "## Hyperparameter tuned models only slighly better than the previous models without hyperparameter tuning\n",
        "get_evaluation_metrics(\"Random Forest\", rf_best, rf_best.predict(X_test), y_test)\n",
        "get_evaluation_metrics(\"XGBoost\", xgb_best, xgb_best.predict(X_test), y_test)\n",
        "get_evaluation_metrics(\"Light GBM\", lgb_best, lgb_best.predict(X_test), y_test)"
      ]
    },
    {
      "cell_type": "code",
      "execution_count": 311,
      "id": "09274f1e",
      "metadata": {
        "id": "09274f1e",
        "outputId": "1456a65a-745b-45c9-94e7-9a843acd3a5e"
      },
      "outputs": [
        {
          "data": {
            "text/plain": [
              "<sklearn.metrics._plot.precision_recall_curve.PrecisionRecallDisplay at 0x32c0046e0>"
            ]
          },
          "execution_count": 311,
          "metadata": {},
          "output_type": "execute_result"
        },
        {
          "data": {
            "text/plain": [
              "Text(0.5, 1.0, 'Precision-Recall Curve for Random Forest')"
            ]
          },
          "execution_count": 311,
          "metadata": {},
          "output_type": "execute_result"
        },
        {
          "data": {
            "image/png": "[encoded data removed]",
            "text/plain": [
              "<Figure size 640x480 with 1 Axes>"
            ]
          },
          "metadata": {},
          "output_type": "display_data"
        },
        {
          "data": {
            "text/plain": [
              "<sklearn.metrics._plot.roc_curve.RocCurveDisplay at 0x32c6931d0>"
            ]
          },
          "execution_count": 311,
          "metadata": {},
          "output_type": "execute_result"
        },
        {
          "data": {
            "text/plain": [
              "Text(0.5, 1.0, 'ROC Curve for Random Forest')"
            ]
          },
          "execution_count": 311,
          "metadata": {},
          "output_type": "execute_result"
        },
        {
          "data": {
            "image/png": "[encoded data removed]",
            "text/plain": [
              "<Figure size 640x480 with 1 Axes>"
            ]
          },
          "metadata": {},
          "output_type": "display_data"
        }
      ],
      "source": [
        "PrecisionRecallDisplay.from_estimator(rf, X_test, y_test)\n",
        "plt.title(\"Precision-Recall Curve for Random Forest\")   \n",
        "plt.show()\n",
        "\n",
        "RocCurveDisplay.from_estimator(rf, X_test, y_test)\n",
        "plt.title(\"ROC Curve for Random Forest\")\n",
        "plt.show()"
      ]
    },
    {
      "cell_type": "code",
      "execution_count": 133,
      "id": "8d6d2332",
      "metadata": {
        "id": "8d6d2332",
        "outputId": "0d418771-e2dd-43dc-a786-6786b43e1f09"
      },
      "outputs": [
        {
          "data": {
            "text/plain": [
              "<sklearn.metrics._plot.precision_recall_curve.PrecisionRecallDisplay at 0x16fa7a9f0>"
            ]
          },
          "execution_count": 133,
          "metadata": {},
          "output_type": "execute_result"
        },
        {
          "data": {
            "text/plain": [
              "Text(0.5, 1.0, 'Precision-Recall Curve for LightGBM')"
            ]
          },
          "execution_count": 133,
          "metadata": {},
          "output_type": "execute_result"
        },
        {
          "data": {
            "image/png": "[encoded data removed]",
            "text/plain": [
              "<Figure size 640x480 with 1 Axes>"
            ]
          },
          "metadata": {},
          "output_type": "display_data"
        },
        {
          "data": {
            "text/plain": [
              "<sklearn.metrics._plot.roc_curve.RocCurveDisplay at 0x3113db590>"
            ]
          },
          "execution_count": 133,
          "metadata": {},
          "output_type": "execute_result"
        },
        {
          "data": {
            "text/plain": [
              "Text(0.5, 1.0, 'ROC Curve for LightGBM')"
            ]
          },
          "execution_count": 133,
          "metadata": {},
          "output_type": "execute_result"
        },
        {
          "data": {
            "image/png": "[encoded data removed]",
            "text/plain": [
              "<Figure size 640x480 with 1 Axes>"
            ]
          },
          "metadata": {},
          "output_type": "display_data"
        }
      ],
      "source": [
        "PrecisionRecallDisplay.from_estimator(lgb, X_test, y_test)\n",
        "plt.title(\"Precision-Recall Curve for LightGBM\")    \n",
        "plt.show()\n",
        "\n",
        "RocCurveDisplay.from_estimator(lgb, X_test, y_test)\n",
        "plt.title(\"ROC Curve for LightGBM\")\n",
        "plt.show()"
      ]
    },
    {
      "cell_type": "code",
      "execution_count": 134,
      "id": "6de17ac9",
      "metadata": {
        "id": "6de17ac9",
        "outputId": "edf9b4eb-44ee-4127-b7f0-fac7f03f6d03"
      },
      "outputs": [
        {
          "data": {
            "text/plain": [
              "<sklearn.metrics._plot.precision_recall_curve.PrecisionRecallDisplay at 0x3174fe540>"
            ]
          },
          "execution_count": 134,
          "metadata": {},
          "output_type": "execute_result"
        },
        {
          "data": {
            "text/plain": [
              "Text(0.5, 1.0, 'Precision-Recall Curve for XGBoost')"
            ]
          },
          "execution_count": 134,
          "metadata": {},
          "output_type": "execute_result"
        },
        {
          "data": {
            "image/png": "[encoded data removed]",
            "text/plain": [
              "<Figure size 640x480 with 1 Axes>"
            ]
          },
          "metadata": {},
          "output_type": "display_data"
        },
        {
          "data": {
            "text/plain": [
              "<sklearn.metrics._plot.roc_curve.RocCurveDisplay at 0x3174209b0>"
            ]
          },
          "execution_count": 134,
          "metadata": {},
          "output_type": "execute_result"
        },
        {
          "data": {
            "text/plain": [
              "Text(0.5, 1.0, 'ROC Curve for XGBoost')"
            ]
          },
          "execution_count": 134,
          "metadata": {},
          "output_type": "execute_result"
        },
        {
          "data": {
            "image/png": "[encoded data removed]",
            "text/plain": [
              "<Figure size 640x480 with 1 Axes>"
            ]
          },
          "metadata": {},
          "output_type": "display_data"
        }
      ],
      "source": [
        "PrecisionRecallDisplay.from_estimator(xgb, X_test, y_test)\n",
        "plt.title(\"Precision-Recall Curve for XGBoost\") \n",
        "plt.show()\n",
        "\n",
        "RocCurveDisplay.from_estimator(xgb, X_test, y_test)\n",
        "plt.title(\"ROC Curve for XGBoost\")\n",
        "plt.show()\n"
      ]
    },
    {
      "cell_type": "markdown",
      "id": "b922d5f6",
      "metadata": {},
      "source": [
        "#### Possible Reasons of limited improvement from Random Search Hyperparameter Tuning\n",
        "\n",
        "1. Model Complexity vs. Data Complexity:\n",
        "   - If the underlying patterns in the data are relatively simple, a more complex model may not necessarily perform better. The default hyperparameters might already be sufficient to capture the important features of the data.\n",
        "\n",
        "2. Limited Search Space:\n",
        "   - The range of hyperparameters explored in the random search might not have been wide enough or diverse enough to find significantly better configurations.\n",
        "\n",
        "3. Data Quality and Quantity:\n",
        "   - If the dataset is noisy, imbalanced, or limited in size, even optimized hyperparameters may not lead to substantial improvements.\n",
        "\n",
        "4. Feature Engineering:\n",
        "   - The quality and relevance of the features might be more important than fine-tuning hyperparameters. Better feature selection or engineering could potentially yield more significant improvements.\n",
        "\n",
        "5. Model Selection:\n",
        "   - The chosen models (Random Forest, XGBoost, LightGBM) might already be well-suited for this particular problem, leaving less room for improvement through hyperparameter tuning.\n",
        "\n",
        "6. Overfitting to Validation Set:\n",
        "   - The hyperparameter tuning process might have led to slight overfitting to the validation set, which doesn't translate to significant improvements on the test set.\n",
        "\n",
        "7. Diminishing Returns:\n",
        "   - There might be a point of diminishing returns where further tuning yields only marginal improvements.\n",
        "\n",
        "To potentially improve results:\n",
        "- Expand the hyperparameter search space\n",
        "- Focus on feature engineering and selection\n",
        "- Collect more data or address data quality issues\n",
        "- Experiment with different model architectures or ensemble methods\n"
      ]
    },
    {
      "cell_type": "markdown",
      "id": "659f93c6",
      "metadata": {},
      "source": [
        "#### Predicting the interest level of new leads"
      ]
    },
    {
      "cell_type": "code",
      "execution_count": 322,
      "id": "c0308d31",
      "metadata": {},
      "outputs": [
        {
          "name": "stdout",
          "output_type": "stream",
          "text": [
            "Random Forest Predictions: [0 1]\n",
            "XGBoost Predictions: [0 1]\n",
            "LightGBM Predictions: [0 1]\n"
          ]
        }
      ],
      "source": [
        "# Generate two test entries\n",
        "test_entries = pd.DataFrame({\n",
        "    'lead_owner': ['d16267', 'e14c3a'],\n",
        "    'lead_creation_source': ['API', 'Manually created'],\n",
        "    'current_work': ['Student/Fresher', 'Business/Management'],\n",
        "    'marketing_source': ['Paid Advertising', 'SEO'],\n",
        "    'hour_of_day': [10, 15],\n",
        "    'day_of_week': [2, 4]\n",
        "})\n",
        "\n",
        "# Encode the test entries\n",
        "test_entries_encoded = test_entries.copy()\n",
        "test_entries_encoded['marketing_source'] = label_encoder1.transform(test_entries_encoded['marketing_source'])\n",
        "test_entries_encoded['lead_owner'] = label_encoder2.transform(test_entries_encoded['lead_owner'])\n",
        "test_entries_encoded['lead_creation_source'] = label_encoder3.transform(test_entries_encoded['lead_creation_source'])\n",
        "test_entries_encoded['current_work'] = label_encoder4.transform(test_entries_encoded['current_work'])\n",
        "#test_entries_encoded['current_work'].apply(lambda x: 1 if 'student' in str(x).strip().lower() else 0)\n",
        "\n",
        "\n",
        "# Predict using the trained models\n",
        "rf_predictions = rf.predict(test_entries_encoded)\n",
        "xgb_predictions = xgb.predict(test_entries_encoded)\n",
        "lgb_predictions = lgb.predict(test_entries_encoded)\n",
        "\n",
        "# Evaluate the predictions\n",
        "print(\"Random Forest Predictions:\", rf_predictions)\n",
        "print(\"XGBoost Predictions:\", xgb_predictions)\n",
        "print(\"LightGBM Predictions:\", lgb_predictions)"
      ]
    },
    {
      "attachments": {},
      "cell_type": "markdown",
      "id": "131ca905",
      "metadata": {
        "id": "131ca905"
      },
      "source": [
        "## **Conclusion**\n",
        "\n",
        "In this project we used a bunch of supervised models to predict if the customer would be interested in a lead.\n",
        "\n",
        "After looking at the PR and ROC curves above, we can conclude that <b>LightGBM</b> is giving us a little best possible results."
      ]
    },
    {
      "attachments": {},
      "cell_type": "markdown",
      "id": "94ee13fe",
      "metadata": {},
      "source": [
        "## **Extending the project**"
      ]
    },
    {
      "cell_type": "markdown",
      "id": "3a11d64a",
      "metadata": {},
      "source": [
        "To demostrate to optimize the budget allocation, we need to analyze the performance of each marketing source in terms of lead conversion rates and cost-effectiveness. \n",
        "\n",
        "This can be achieved by calculating the return on investment (ROI) for each marketing source and then allocating the budget accordingly."
      ]
    },
    {
      "cell_type": "code",
      "execution_count": 325,
      "id": "ced09f88",
      "metadata": {},
      "outputs": [
        {
          "name": "stdout",
          "output_type": "stream",
          "text": [
            "   marketing_source  budget_allocation\n",
            "0                 0        6998.108094\n",
            "1                 1        4585.633490\n",
            "2                 2        5879.224533\n",
            "3                 3        1977.814088\n",
            "4                 4       42046.466471\n",
            "5                 5        8860.803504\n",
            "6                 6       10617.135931\n",
            "7                 7       19034.813890\n"
          ]
        },
        {
          "data": {
            "text/html": [
              "<div>\n",
              "<style scoped>\n",
              "    .dataframe tbody tr th:only-of-type {\n",
              "        vertical-align: middle;\n",
              "    }\n",
              "\n",
              "    .dataframe tbody tr th {\n",
              "        vertical-align: top;\n",
              "    }\n",
              "\n",
              "    .dataframe thead th {\n",
              "        text-align: right;\n",
              "    }\n",
              "</style>\n",
              "<table border=\"1\" class=\"dataframe\">\n",
              "  <thead>\n",
              "    <tr style=\"text-align: right;\">\n",
              "      <th></th>\n",
              "      <th>marketing_source</th>\n",
              "      <th>interest_level</th>\n",
              "      <th>cost_per_lead</th>\n",
              "      <th>ROI</th>\n",
              "      <th>budget_allocation</th>\n",
              "    </tr>\n",
              "  </thead>\n",
              "  <tbody>\n",
              "    <tr>\n",
              "      <th>0</th>\n",
              "      <td>0</td>\n",
              "      <td>0.306595</td>\n",
              "      <td>10</td>\n",
              "      <td>0.030660</td>\n",
              "      <td>6998.108094</td>\n",
              "    </tr>\n",
              "    <tr>\n",
              "      <th>1</th>\n",
              "      <td>1</td>\n",
              "      <td>0.301353</td>\n",
              "      <td>15</td>\n",
              "      <td>0.020090</td>\n",
              "      <td>4585.633490</td>\n",
              "    </tr>\n",
              "    <tr>\n",
              "      <th>2</th>\n",
              "      <td>2</td>\n",
              "      <td>0.515152</td>\n",
              "      <td>20</td>\n",
              "      <td>0.025758</td>\n",
              "      <td>5879.224533</td>\n",
              "    </tr>\n",
              "    <tr>\n",
              "      <th>3</th>\n",
              "      <td>3</td>\n",
              "      <td>0.216626</td>\n",
              "      <td>25</td>\n",
              "      <td>0.008665</td>\n",
              "      <td>1977.814088</td>\n",
              "    </tr>\n",
              "    <tr>\n",
              "      <th>4</th>\n",
              "      <td>4</td>\n",
              "      <td>0.921053</td>\n",
              "      <td>5</td>\n",
              "      <td>0.184211</td>\n",
              "      <td>42046.466471</td>\n",
              "    </tr>\n",
              "    <tr>\n",
              "      <th>5</th>\n",
              "      <td>5</td>\n",
              "      <td>0.310562</td>\n",
              "      <td>8</td>\n",
              "      <td>0.038820</td>\n",
              "      <td>8860.803504</td>\n",
              "    </tr>\n",
              "    <tr>\n",
              "      <th>6</th>\n",
              "      <td>6</td>\n",
              "      <td>0.558179</td>\n",
              "      <td>12</td>\n",
              "      <td>0.046515</td>\n",
              "      <td>10617.135931</td>\n",
              "    </tr>\n",
              "    <tr>\n",
              "      <th>7</th>\n",
              "      <td>7</td>\n",
              "      <td>0.583756</td>\n",
              "      <td>7</td>\n",
              "      <td>0.083394</td>\n",
              "      <td>19034.813890</td>\n",
              "    </tr>\n",
              "  </tbody>\n",
              "</table>\n",
              "</div>"
            ],
            "text/plain": [
              "   marketing_source  interest_level  cost_per_lead       ROI  \\\n",
              "0                 0        0.306595             10  0.030660   \n",
              "1                 1        0.301353             15  0.020090   \n",
              "2                 2        0.515152             20  0.025758   \n",
              "3                 3        0.216626             25  0.008665   \n",
              "4                 4        0.921053              5  0.184211   \n",
              "5                 5        0.310562              8  0.038820   \n",
              "6                 6        0.558179             12  0.046515   \n",
              "7                 7        0.583756              7  0.083394   \n",
              "\n",
              "   budget_allocation  \n",
              "0        6998.108094  \n",
              "1        4585.633490  \n",
              "2        5879.224533  \n",
              "3        1977.814088  \n",
              "4       42046.466471  \n",
              "5        8860.803504  \n",
              "6       10617.135931  \n",
              "7       19034.813890  "
            ]
          },
          "execution_count": 325,
          "metadata": {},
          "output_type": "execute_result"
        }
      ],
      "source": [
        "# Step 1: Calculate the conversion rate for each marketing source\n",
        "conversion_rates = df.groupby('marketing_source')['interest_level'].apply(lambda x: (x == 1).sum() / len(x))\n",
        "\n",
        "# Step 2: Calculate the cost per lead for each marketing source (assuming we have a cost data frame, for demonstration purposes only)\n",
        "cost_df = pd.DataFrame({\n",
        "    'marketing_source': ['SEO', 'Paid Advertising', 'Medium', 'Affiliate', 'Email Campaign', 'Job Portal', 'Other', 'Unknown'],\n",
        "    'cost_per_lead': [10, 15, 20, 25, 5, 8, 12, 7]\n",
        "})\n",
        "\n",
        "# Step 3: Calculate the ROI for each marketing source\n",
        "#roi_df = pd.merge(conversion_rates.reset_index(), cost_df, on='marketing_source')\n",
        "roi_df = pd.concat([conversion_rates.reset_index(), cost_df], axis=1).loc[:, ~pd.concat([conversion_rates.reset_index(), cost_df], axis=1).columns.duplicated()]\n",
        "roi_df = roi_df.dropna()\n",
        "\n",
        "roi_df['ROI'] = roi_df['interest_level'] / roi_df['cost_per_lead']\n",
        "\n",
        "# Step 4: Allocate the budget based on ROI\n",
        "total_budget = 100000  # Example total budget, ficticious number only\n",
        "roi_df['budget_allocation'] = (roi_df['ROI'] / roi_df['ROI'].sum()) * total_budget\n",
        "\n",
        "# Step 5: Display the budget allocation\n",
        "print(roi_df[['marketing_source', 'budget_allocation']])\n",
        "roi_df"
      ]
    },
    {
      "cell_type": "code",
      "execution_count": 327,
      "id": "a5ca090c",
      "metadata": {},
      "outputs": [
        {
          "name": "stdout",
          "output_type": "stream",
          "text": [
            "ROI Analysis:\n",
            "--------------\n",
            "1. Most effective marketing sources:\n",
            "   - 4.0: ROI = 0.1842\n",
            "   - 7.0: ROI = 0.0834\n",
            "   - 6.0: ROI = 0.0465\n",
            "\n",
            "2. Least effective marketing sources:\n",
            "   - 2.0: ROI = 0.0258\n",
            "   - 1.0: ROI = 0.0201\n",
            "   - 3.0: ROI = 0.0087\n"
          ]
        }
      ],
      "source": [
        "# Analyze and interpret the ROI results\n",
        "print(\"ROI Analysis:\")\n",
        "print(\"--------------\")\n",
        "\n",
        "# Sort the ROI dataframe by ROI in descending order\n",
        "roi_sorted = roi_df.sort_values('ROI', ascending=False)\n",
        "\n",
        "print(\"1. Most effective marketing sources:\")\n",
        "for idx, row in roi_sorted.head(3).iterrows():\n",
        "    print(f\"   - {row['marketing_source']}: ROI = {row['ROI']:.4f}\")\n",
        "\n",
        "print(\"\\n2. Least effective marketing sources:\")\n",
        "for idx, row in roi_sorted.tail(3).iterrows():\n",
        "    print(f\"   - {row['marketing_source']}: ROI = {row['ROI']:.4f}\")"
      ]
    }
  ],
  "metadata": {
    "colab": {
      "provenance": []
    },
    "kernelspec": {
      "display_name": "Python 3",
      "language": "python",
      "name": "python3"
    },
    "language_info": {
      "codemirror_mode": {
        "name": "ipython",
        "version": 3
      },
      "file_extension": ".py",
      "mimetype": "text/x-python",
      "name": "python",
      "nbconvert_exporter": "python",
      "pygments_lexer": "ipython3",
      "version": "3.12.2"
    }
  },
  "nbformat": 4,
  "nbformat_minor": 5
}
